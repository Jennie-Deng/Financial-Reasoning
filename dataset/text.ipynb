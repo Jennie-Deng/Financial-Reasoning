{
 "cells": [
  {
   "cell_type": "code",
   "execution_count": 1,
   "metadata": {},
   "outputs": [],
   "source": [
    "import json\n",
    "import pandas as pd\n",
    "from IPython.display import Markdown, Image, display\n",
    "import ast"
   ]
  },
  {
   "cell_type": "code",
   "execution_count": 54,
   "metadata": {},
   "outputs": [
    {
     "name": "stderr",
     "output_type": "stream",
     "text": [
      "<unknown>:1: SyntaxWarning: invalid escape sequence '\\$'\n"
     ]
    },
    {
     "name": "stdout",
     "output_type": "stream",
     "text": [
      "File deleted successfully.\n"
     ]
    }
   ],
   "source": [
    "\n",
    "\n",
    "new_file_path = '/Volumes/Jennie/Reasoning/FinReasoning/dataset/data_v3.csv'\n",
    "df1 = pd.read_csv(new_file_path)\n",
    "df1['ID'] = df1['ID'].astype(int)\n",
    "df1['Question Number'] = df1['Question Number'].astype(int)\n",
    "df1['Share Context'] = df1['Share Context'].fillna('')\n",
    "df1['Image'] = df1['Image'].fillna('')\n",
    "df1['Share Image'] = df1['Share Image'].fillna('')\n",
    "df1['shared_description']=df1['shared_description'].fillna('')\n",
    "df1['description']=df1['description'].fillna('')\n",
    "df1['待处理']=df1['待处理'].fillna('')\n",
    "df1['Train']=df1['Train'].fillna('')\n",
    "# Function to safely evaluate the string to a dictionary\n",
    "def safe_literal_eval(val):\n",
    "    try:\n",
    "        return ast.literal_eval(val)\n",
    "    except (ValueError, SyntaxError):\n",
    "        return \"error\"\n",
    "\n",
    "\n",
    "# Apply the function to the 'Options' column\n",
    "df1['Options'] = df1['Options'].apply(safe_literal_eval)\n",
    "\n",
    "# Function to safely evaluate the string to a list\n",
    "def safe_literal_eval(val):\n",
    "    try:\n",
    "        return ast.literal_eval(val)\n",
    "    except (ValueError, SyntaxError):\n",
    "        return val\n",
    "\n",
    "\n",
    "# Apply the function to the 'Share Image' column\n",
    "df1['Share Image'] = df1['Share Image'].apply(safe_literal_eval)\n",
    "data_dict = df1.to_dict(orient='records')\n",
    "\n",
    "import os\n",
    "\n",
    "# Check if the file exists\n",
    "if os.path.exists( '/Volumes/Jennie/Reasoning/FinReasoning/dataset/data_v3.json'):\n",
    "    # Delete the file\n",
    "    os.remove( '/Volumes/Jennie/Reasoning/FinReasoning/dataset/data_v3.json')\n",
    "    print(\"File deleted successfully.\")\n",
    "else:\n",
    "    print(\"File does not exist.\")\n",
    "# Write dictionary to JSON file with UTF-8 encoding\n",
    "with open( '/Volumes/Jennie/Reasoning/FinReasoning/dataset/data_v3.json', 'w', encoding='utf-8') as json_file:\n",
    "    json.dump(data_dict, json_file, ensure_ascii=False, indent=4)"
   ]
  },
  {
   "cell_type": "code",
   "execution_count": 52,
   "metadata": {},
   "outputs": [],
   "source": [
    "file_path = '/Volumes/Jennie/Reasoning/FinReasoning/dataset/data_v3.json'\n",
    "df = pd.read_json(file_path)\n",
    "df=df[df['ID']==3408]"
   ]
  },
  {
   "cell_type": "code",
   "execution_count": 53,
   "metadata": {},
   "outputs": [
    {
     "name": "stdout",
     "output_type": "stream",
     "text": [
      "ID: 3408\n",
      "Question Number: 45\n",
      "Question:\n"
     ]
    },
    {
     "data": {
      "text/markdown": [
       "Given the following information, what is Bank A’s net stable funding ratio?\n",
       "1. High-quality liquid assets\n",
       "2. Required amount of stable funding\n",
       "3. Cash outflows over the next 30 days\n",
       "4. Net cash outflows over the next 30 days\n",
       "5. Available amount of stable funding\n",
       "6. High-quality liquid assets in each major currency"
      ],
      "text/plain": [
       "<IPython.core.display.Markdown object>"
      ]
     },
     "metadata": {},
     "output_type": "display_data"
    },
    {
     "name": "stdout",
     "output_type": "stream",
     "text": [
      "Options:\n"
     ]
    },
    {
     "data": {
      "text/markdown": [
       "{'A': '65%', 'B': '89%', 'C': '105%', 'D': '125%'}"
      ],
      "text/plain": [
       "<IPython.core.display.Markdown object>"
      ]
     },
     "metadata": {},
     "output_type": "display_data"
    },
    {
     "name": "stdout",
     "output_type": "stream",
     "text": [
      "Expalnation:\n"
     ]
    },
    {
     "data": {
      "text/markdown": [
       "The longer-term funding ratio is equal to the available amount of stable funding\n",
       "divided by the required amount of stable funding. Under Basel III, this ratio must exceed 100%.\n",
       "Bank A’s net stable funding ratio = $210/$200 = 105%."
      ],
      "text/plain": [
       "<IPython.core.display.Markdown object>"
      ]
     },
     "metadata": {},
     "output_type": "display_data"
    },
    {
     "name": "stdout",
     "output_type": "stream",
     "text": [
      "-----------------------------------\n"
     ]
    }
   ],
   "source": [
    "\n",
    "\n",
    "\n",
    "for entry in df.iterrows():\n",
    "    print(\"ID:\", entry[1]['ID'])\n",
    "    print('Question Number:', entry[1]['Question Number'])\n",
    "    print('Question:')\n",
    "    display(Markdown(entry[1]['Question Text']))\n",
    "    print('Options:')\n",
    "    display(Markdown(str(entry[1]['Options'])))\n",
    "    if entry[1][\"Image\"]!='':\n",
    "        print('Image:', entry[1]['Image'])\n",
    "        display(Image(entry[1]['Image']))\n",
    "    # print('Options:', entry[1]['Options'])\n",
    "    # a=entry[1]['Human Caption'].replace('\\[','$$').replace('\\]','$$').replace('\\(','$').replace('\\)','$')\n",
    "    print('Expalnation:')\n",
    "    display(Markdown(entry[1]['Explanation']))\n",
    "    print('-----------------------------------')"
   ]
  }
 ],
 "metadata": {
  "kernelspec": {
   "display_name": ".venv",
   "language": "python",
   "name": "python3"
  },
  "language_info": {
   "codemirror_mode": {
    "name": "ipython",
    "version": 3
   },
   "file_extension": ".py",
   "mimetype": "text/x-python",
   "name": "python",
   "nbconvert_exporter": "python",
   "pygments_lexer": "ipython3",
   "version": "3.12.5"
  }
 },
 "nbformat": 4,
 "nbformat_minor": 2
}
