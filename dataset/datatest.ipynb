{
 "cells": [
  {
   "cell_type": "code",
   "execution_count": 1,
   "metadata": {},
   "outputs": [],
   "source": [
    "from dotenv import load_dotenv\n",
    "import os\n",
    "from langchain_core.messages import HumanMessage, SystemMessage\n",
    "from langchain_openai import ChatOpenAI\n",
    "import re\n",
    "from IPython.display import display, Markdown,Image"
   ]
  },
  {
   "cell_type": "code",
   "execution_count": 30,
   "metadata": {},
   "outputs": [
    {
     "name": "stderr",
     "output_type": "stream",
     "text": [
      "<>:1: SyntaxWarning: invalid escape sequence '\\('\n",
      "<>:8: SyntaxWarning: invalid escape sequence '\\('\n",
      "<>:8: SyntaxWarning: invalid escape sequence '\\)'\n",
      "<>:8: SyntaxWarning: invalid escape sequence '\\['\n",
      "<>:8: SyntaxWarning: invalid escape sequence '\\]'\n",
      "<>:1: SyntaxWarning: invalid escape sequence '\\('\n",
      "<>:8: SyntaxWarning: invalid escape sequence '\\('\n",
      "<>:8: SyntaxWarning: invalid escape sequence '\\)'\n",
      "<>:8: SyntaxWarning: invalid escape sequence '\\['\n",
      "<>:8: SyntaxWarning: invalid escape sequence '\\]'\n",
      "/var/folders/45/tp49z4vj1hv70r30brycjgx00000gn/T/ipykernel_44226/230315031.py:1: SyntaxWarning: invalid escape sequence '\\('\n",
      "  a=\"\"\"\n",
      "/var/folders/45/tp49z4vj1hv70r30brycjgx00000gn/T/ipykernel_44226/230315031.py:8: SyntaxWarning: invalid escape sequence '\\('\n",
      "  \"\"\".replace(\"\\(\",\"$\").replace(\"\\)\",\"$\").replace(\"\\[\",\"$\").replace(\"\\]\",\"$\").replace(\"\\times\",\"\\\\times\").replace(\"\\text\",\"\\\\text\").replace(\"\\rightarrow\",\"\\\\rightarrow\")\n",
      "/var/folders/45/tp49z4vj1hv70r30brycjgx00000gn/T/ipykernel_44226/230315031.py:8: SyntaxWarning: invalid escape sequence '\\)'\n",
      "  \"\"\".replace(\"\\(\",\"$\").replace(\"\\)\",\"$\").replace(\"\\[\",\"$\").replace(\"\\]\",\"$\").replace(\"\\times\",\"\\\\times\").replace(\"\\text\",\"\\\\text\").replace(\"\\rightarrow\",\"\\\\rightarrow\")\n",
      "/var/folders/45/tp49z4vj1hv70r30brycjgx00000gn/T/ipykernel_44226/230315031.py:8: SyntaxWarning: invalid escape sequence '\\['\n",
      "  \"\"\".replace(\"\\(\",\"$\").replace(\"\\)\",\"$\").replace(\"\\[\",\"$\").replace(\"\\]\",\"$\").replace(\"\\times\",\"\\\\times\").replace(\"\\text\",\"\\\\text\").replace(\"\\rightarrow\",\"\\\\rightarrow\")\n",
      "/var/folders/45/tp49z4vj1hv70r30brycjgx00000gn/T/ipykernel_44226/230315031.py:8: SyntaxWarning: invalid escape sequence '\\]'\n",
      "  \"\"\".replace(\"\\(\",\"$\").replace(\"\\)\",\"$\").replace(\"\\[\",\"$\").replace(\"\\]\",\"$\").replace(\"\\times\",\"\\\\times\").replace(\"\\text\",\"\\\\text\").replace(\"\\rightarrow\",\"\\\\rightarrow\")\n"
     ]
    }
   ],
   "source": [
    "a=\"\"\"\n",
    "This question focuses on the application of the EWMA model and the GARCH (1,1) model.\n",
    "\n",
    "When \\( \\\\lambda = 0, \\\\alpha = 1 - \\\\lambda, \\\\beta = \\\\lambda \\), the GARCH (1,1) model is equivalent to the EWMA model. Therefore, the EWMA model can be considered a special case of the GARCH (1,1) model, not the other way around. Thus, **Statement 1** is incorrect.\n",
    "\n",
    "When using the EWMA model to estimate the correlation coefficient, consistency should be maintained; that is, the value of \\( \\lambda \\) used in the model to estimate covariance should also be used in the model estimating asset volatility. Therefore, **Statement 2** is correct.\n",
    "\n",
    "\"\"\".replace(\"\\(\",\"$\").replace(\"\\)\",\"$\").replace(\"\\[\",\"$\").replace(\"\\]\",\"$\").replace(\"\\times\",\"\\\\times\").replace(\"\\text\",\"\\\\text\").replace(\"\\rightarrow\",\"\\\\rightarrow\")"
   ]
  },
  {
   "cell_type": "code",
   "execution_count": 37,
   "metadata": {},
   "outputs": [
    {
     "data": {
      "text/markdown": [
       "The focus of this question is on the application of exponentially declining weights.$$\u0007lpha_i = (1 - \\lambda) \\lambda^{i-1} = (1 - 0.94) \times 0.94^{7-1} = 4.14\\%$$Therefore, option C is correct."
      ],
      "text/plain": [
       "<IPython.core.display.Markdown object>"
      ]
     },
     "metadata": {},
     "output_type": "display_data"
    }
   ],
   "source": [
    "display(Markdown(a))"
   ]
  },
  {
   "cell_type": "code",
   "execution_count": 35,
   "metadata": {},
   "outputs": [
    {
     "name": "stderr",
     "output_type": "stream",
     "text": [
      "<>:1: SyntaxWarning: invalid escape sequence '\\l'\n",
      "<>:1: SyntaxWarning: invalid escape sequence '\\l'\n",
      "/var/folders/45/tp49z4vj1hv70r30brycjgx00000gn/T/ipykernel_44226/4285409491.py:1: SyntaxWarning: invalid escape sequence '\\l'\n",
      "  a=\"The focus of this question is on the application of exponentially declining weights.$$\\alpha_i = (1 - \\lambda) \\lambda^{i-1} = (1 - 0.94) \\times 0.94^{7-1} = 4.14\\%$$Therefore, option C is correct.\"\n"
     ]
    }
   ],
   "source": [
    "a=\"The focus of this question is on the application of exponentially declining weights.$$\\alpha_i = (1 - \\lambda) \\lambda^{i-1} = (1 - 0.94) \\times 0.94^{7-1} = 4.14\\%$$Therefore, option C is correct.\""
   ]
  },
  {
   "cell_type": "code",
   "execution_count": 55,
   "metadata": {},
   "outputs": [
    {
     "data": {
      "text/html": [
       "<div>\n",
       "<style scoped>\n",
       "    .dataframe tbody tr th:only-of-type {\n",
       "        vertical-align: middle;\n",
       "    }\n",
       "\n",
       "    .dataframe tbody tr th {\n",
       "        vertical-align: top;\n",
       "    }\n",
       "\n",
       "    .dataframe thead th {\n",
       "        text-align: right;\n",
       "    }\n",
       "</style>\n",
       "<table border=\"1\" class=\"dataframe\">\n",
       "  <thead>\n",
       "    <tr style=\"text-align: right;\">\n",
       "      <th></th>\n",
       "      <th>ID</th>\n",
       "      <th>Question Number</th>\n",
       "      <th>Share Context</th>\n",
       "      <th>Share Image</th>\n",
       "      <th>Question Text</th>\n",
       "      <th>Image</th>\n",
       "      <th>Options</th>\n",
       "      <th>Answer</th>\n",
       "      <th>Explanation</th>\n",
       "      <th>QA Type</th>\n",
       "      <th>Question Type</th>\n",
       "      <th>Level of Difficulty</th>\n",
       "      <th>Knowledge Topics</th>\n",
       "      <th>General Topics</th>\n",
       "      <th>Book Label</th>\n",
       "    </tr>\n",
       "  </thead>\n",
       "  <tbody>\n",
       "    <tr>\n",
       "      <th>1109</th>\n",
       "      <td>2367</td>\n",
       "      <td>65</td>\n",
       "      <td>NaN</td>\n",
       "      <td>NaN</td>\n",
       "      <td>Jacky is a senior manager in risk management a...</td>\n",
       "      <td>NaN</td>\n",
       "      <td>{'A': 'Bank should have sufficient liquid asse...</td>\n",
       "      <td>C</td>\n",
       "      <td>This question focuses on the principles of str...</td>\n",
       "      <td>Knowledge reasoning QA</td>\n",
       "      <td>text only</td>\n",
       "      <td>Hard</td>\n",
       "      <td>Stress Testing, Capital and Liquidity Requirem...</td>\n",
       "      <td>Valuation and Risk Models</td>\n",
       "      <td>Valuationand Risk Models2</td>\n",
       "    </tr>\n",
       "    <tr>\n",
       "      <th>1110</th>\n",
       "      <td>2366</td>\n",
       "      <td>64</td>\n",
       "      <td>NaN</td>\n",
       "      <td>NaN</td>\n",
       "      <td>Ming, a risk analyst for Evergrand Investment ...</td>\n",
       "      <td>images/ValuationandRiskModels2_images/64u.png</td>\n",
       "      <td>{'A': 'I and III', 'B': 'II and III', 'C': 'On...</td>\n",
       "      <td>A</td>\n",
       "      <td>This question focuses on differentiating betwe...</td>\n",
       "      <td>Knowledge reasoning QA</td>\n",
       "      <td>text only</td>\n",
       "      <td>Hard</td>\n",
       "      <td>Operational Risk, Capital Requirements, Measur...</td>\n",
       "      <td>Valuation and Risk Models</td>\n",
       "      <td>Valuationand Risk Models2</td>\n",
       "    </tr>\n",
       "    <tr>\n",
       "      <th>1111</th>\n",
       "      <td>2365</td>\n",
       "      <td>63</td>\n",
       "      <td>NaN</td>\n",
       "      <td>NaN</td>\n",
       "      <td>Anna, FRM is an operational risk analyst in Go...</td>\n",
       "      <td>NaN</td>\n",
       "      <td>{'A': 'Only I', 'B': 'Only II', 'C': 'I and II...</td>\n",
       "      <td>D</td>\n",
       "      <td>This question focuses on measuring operational...</td>\n",
       "      <td>Knowledge reasoning QA</td>\n",
       "      <td>text only</td>\n",
       "      <td>Hard</td>\n",
       "      <td>Operational risk measurement, Advanced measure...</td>\n",
       "      <td>Valuation and Risk Models</td>\n",
       "      <td>Valuationand Risk Models2</td>\n",
       "    </tr>\n",
       "    <tr>\n",
       "      <th>1112</th>\n",
       "      <td>2364</td>\n",
       "      <td>62</td>\n",
       "      <td>NaN</td>\n",
       "      <td>NaN</td>\n",
       "      <td>Carl, a columnist for the magazine Country Ris...</td>\n",
       "      <td>NaN</td>\n",
       "      <td>{'A': 'Only I', 'B': 'Only II', 'C': 'I and II...</td>\n",
       "      <td>D</td>\n",
       "      <td>This question focuses on sovereign credit risk...</td>\n",
       "      <td>Knowledge reasoning QA</td>\n",
       "      <td>text only</td>\n",
       "      <td>Hard</td>\n",
       "      <td>Country risk analysis, Sovereign credit risk, ...</td>\n",
       "      <td>Valuation and Risk Models</td>\n",
       "      <td>Valuationand Risk Models2</td>\n",
       "    </tr>\n",
       "    <tr>\n",
       "      <th>1113</th>\n",
       "      <td>2363</td>\n",
       "      <td>61</td>\n",
       "      <td>NaN</td>\n",
       "      <td>NaN</td>\n",
       "      <td>Mark Shaw is a senior credit portfolio manager...</td>\n",
       "      <td>NaN</td>\n",
       "      <td>{'A': '5.82%; 2.87%', 'B': '1.49%; 2.96%', 'C'...</td>\n",
       "      <td>A</td>\n",
       "      <td>This question focuses on calculating default p...</td>\n",
       "      <td>Math reasoning QA</td>\n",
       "      <td>text only</td>\n",
       "      <td>Hard</td>\n",
       "      <td>Credit risk modeling, Hazard rate, Default pro...</td>\n",
       "      <td>Valuation and Risk Models</td>\n",
       "      <td>Valuationand Risk Models2</td>\n",
       "    </tr>\n",
       "    <tr>\n",
       "      <th>...</th>\n",
       "      <td>...</td>\n",
       "      <td>...</td>\n",
       "      <td>...</td>\n",
       "      <td>...</td>\n",
       "      <td>...</td>\n",
       "      <td>...</td>\n",
       "      <td>...</td>\n",
       "      <td>...</td>\n",
       "      <td>...</td>\n",
       "      <td>...</td>\n",
       "      <td>...</td>\n",
       "      <td>...</td>\n",
       "      <td>...</td>\n",
       "      <td>...</td>\n",
       "      <td>...</td>\n",
       "    </tr>\n",
       "    <tr>\n",
       "      <th>1168</th>\n",
       "      <td>2308</td>\n",
       "      <td>5</td>\n",
       "      <td>NaN</td>\n",
       "      <td>NaN</td>\n",
       "      <td>Based on the information provided below, which...</td>\n",
       "      <td>images/ValuationandRiskModels2_images/5u.png</td>\n",
       "      <td>{'A': 'd(0.5):0.9862 d(1.0):0.8860', 'B': 'd(0...</td>\n",
       "      <td>A</td>\n",
       "      <td>本题的考点为通过债券现金流折现现值的方法计算折现因子。\\n\\n根据前两种债券的现金流结构，有...</td>\n",
       "      <td>Math reasoning QA</td>\n",
       "      <td>text only</td>\n",
       "      <td>Hard</td>\n",
       "      <td>Discount Factor Calculation, Time Value of Mon...</td>\n",
       "      <td>Valuation and Risk Models</td>\n",
       "      <td>Valuationand Risk Models2</td>\n",
       "    </tr>\n",
       "    <tr>\n",
       "      <th>1169</th>\n",
       "      <td>2307</td>\n",
       "      <td>4</td>\n",
       "      <td>NaN</td>\n",
       "      <td>NaN</td>\n",
       "      <td>Musab, FRM, is a financial advisor of Golden I...</td>\n",
       "      <td>NaN</td>\n",
       "      <td>{'A': 'Equivalent annual rate for product A: 7...</td>\n",
       "      <td>D</td>\n",
       "      <td>本题的考点为利率之间的等价转换。\\n\\n$$\\n\\text{Equivalent annua...</td>\n",
       "      <td>Math reasoning QA</td>\n",
       "      <td>text only</td>\n",
       "      <td>Hard</td>\n",
       "      <td>Time Value of Money, Interest Rate Calculation...</td>\n",
       "      <td>Valuation and Risk Models</td>\n",
       "      <td>Valuationand Risk Models2</td>\n",
       "    </tr>\n",
       "    <tr>\n",
       "      <th>1170</th>\n",
       "      <td>2306</td>\n",
       "      <td>3</td>\n",
       "      <td>NaN</td>\n",
       "      <td>NaN</td>\n",
       "      <td>The treasurer of a US company has entered into...</td>\n",
       "      <td>NaN</td>\n",
       "      <td>{'A': 'USD 502,035', 'B': 'USD 502,335', 'C': ...</td>\n",
       "      <td>B</td>\n",
       "      <td>该题的考点为有效年利率和年金终值的计算。\\n由于是每年年末的时候才会存一笔年金，因此需要把按...</td>\n",
       "      <td>Math reasoning QA</td>\n",
       "      <td>text only</td>\n",
       "      <td>Hard</td>\n",
       "      <td>Currency Swaps, Compounding Interest, Financia...</td>\n",
       "      <td>Valuation and Risk Models</td>\n",
       "      <td>Valuationand Risk Models2</td>\n",
       "    </tr>\n",
       "    <tr>\n",
       "      <th>1171</th>\n",
       "      <td>2305</td>\n",
       "      <td>2</td>\n",
       "      <td>NaN</td>\n",
       "      <td>NaN</td>\n",
       "      <td>Emma is looking for the arbitrage opportunitie...</td>\n",
       "      <td>NaN</td>\n",
       "      <td>{'A': 'USD 97.94', 'B': 'USD 100.23', 'C': 'US...</td>\n",
       "      <td>D</td>\n",
       "      <td>本题的考点为一价定律思.想下利用复制原理求债券价格的知识点。\\n\\n$$\\n\\begin{a...</td>\n",
       "      <td>Math reasoning QA</td>\n",
       "      <td>text only</td>\n",
       "      <td>Hard</td>\n",
       "      <td>Bond Pricing, Arbitrage Pricing Theory, Treasu...</td>\n",
       "      <td>Valuation and Risk Models</td>\n",
       "      <td>Valuationand Risk Models2</td>\n",
       "    </tr>\n",
       "    <tr>\n",
       "      <th>1172</th>\n",
       "      <td>2304</td>\n",
       "      <td>1</td>\n",
       "      <td>NaN</td>\n",
       "      <td>NaN</td>\n",
       "      <td>Jack, a graduate student at Mary Business Scho...</td>\n",
       "      <td>NaN</td>\n",
       "      <td>{'A': 'Statement 1 and Statement 3', 'B': 'Sta...</td>\n",
       "      <td>B</td>\n",
       "      <td>本题的考点为不同抵押类型债券的性质辨析。Statement 1: collateral tr...</td>\n",
       "      <td>Knowledge reasoning QA</td>\n",
       "      <td>text only</td>\n",
       "      <td>Hard</td>\n",
       "      <td>Types of bonds, Bond covenants, Call and put p...</td>\n",
       "      <td>Valuation and Risk Models</td>\n",
       "      <td>Valuationand Risk Models2</td>\n",
       "    </tr>\n",
       "  </tbody>\n",
       "</table>\n",
       "<p>64 rows × 15 columns</p>\n",
       "</div>"
      ],
      "text/plain": [
       "        ID  Question Number Share Context Share Image  \\\n",
       "1109  2367               65           NaN         NaN   \n",
       "1110  2366               64           NaN         NaN   \n",
       "1111  2365               63           NaN         NaN   \n",
       "1112  2364               62           NaN         NaN   \n",
       "1113  2363               61           NaN         NaN   \n",
       "...    ...              ...           ...         ...   \n",
       "1168  2308                5           NaN         NaN   \n",
       "1169  2307                4           NaN         NaN   \n",
       "1170  2306                3           NaN         NaN   \n",
       "1171  2305                2           NaN         NaN   \n",
       "1172  2304                1           NaN         NaN   \n",
       "\n",
       "                                          Question Text  \\\n",
       "1109  Jacky is a senior manager in risk management a...   \n",
       "1110  Ming, a risk analyst for Evergrand Investment ...   \n",
       "1111  Anna, FRM is an operational risk analyst in Go...   \n",
       "1112  Carl, a columnist for the magazine Country Ris...   \n",
       "1113  Mark Shaw is a senior credit portfolio manager...   \n",
       "...                                                 ...   \n",
       "1168  Based on the information provided below, which...   \n",
       "1169  Musab, FRM, is a financial advisor of Golden I...   \n",
       "1170  The treasurer of a US company has entered into...   \n",
       "1171  Emma is looking for the arbitrage opportunitie...   \n",
       "1172  Jack, a graduate student at Mary Business Scho...   \n",
       "\n",
       "                                              Image  \\\n",
       "1109                                            NaN   \n",
       "1110  images/ValuationandRiskModels2_images/64u.png   \n",
       "1111                                            NaN   \n",
       "1112                                            NaN   \n",
       "1113                                            NaN   \n",
       "...                                             ...   \n",
       "1168   images/ValuationandRiskModels2_images/5u.png   \n",
       "1169                                            NaN   \n",
       "1170                                            NaN   \n",
       "1171                                            NaN   \n",
       "1172                                            NaN   \n",
       "\n",
       "                                                Options Answer  \\\n",
       "1109  {'A': 'Bank should have sufficient liquid asse...      C   \n",
       "1110  {'A': 'I and III', 'B': 'II and III', 'C': 'On...      A   \n",
       "1111  {'A': 'Only I', 'B': 'Only II', 'C': 'I and II...      D   \n",
       "1112  {'A': 'Only I', 'B': 'Only II', 'C': 'I and II...      D   \n",
       "1113  {'A': '5.82%; 2.87%', 'B': '1.49%; 2.96%', 'C'...      A   \n",
       "...                                                 ...    ...   \n",
       "1168  {'A': 'd(0.5):0.9862 d(1.0):0.8860', 'B': 'd(0...      A   \n",
       "1169  {'A': 'Equivalent annual rate for product A: 7...      D   \n",
       "1170  {'A': 'USD 502,035', 'B': 'USD 502,335', 'C': ...      B   \n",
       "1171  {'A': 'USD 97.94', 'B': 'USD 100.23', 'C': 'US...      D   \n",
       "1172  {'A': 'Statement 1 and Statement 3', 'B': 'Sta...      B   \n",
       "\n",
       "                                            Explanation  \\\n",
       "1109  This question focuses on the principles of str...   \n",
       "1110  This question focuses on differentiating betwe...   \n",
       "1111  This question focuses on measuring operational...   \n",
       "1112  This question focuses on sovereign credit risk...   \n",
       "1113  This question focuses on calculating default p...   \n",
       "...                                                 ...   \n",
       "1168  本题的考点为通过债券现金流折现现值的方法计算折现因子。\\n\\n根据前两种债券的现金流结构，有...   \n",
       "1169  本题的考点为利率之间的等价转换。\\n\\n$$\\n\\text{Equivalent annua...   \n",
       "1170  该题的考点为有效年利率和年金终值的计算。\\n由于是每年年末的时候才会存一笔年金，因此需要把按...   \n",
       "1171  本题的考点为一价定律思.想下利用复制原理求债券价格的知识点。\\n\\n$$\\n\\begin{a...   \n",
       "1172  本题的考点为不同抵押类型债券的性质辨析。Statement 1: collateral tr...   \n",
       "\n",
       "                     QA Type Question Type Level of Difficulty  \\\n",
       "1109  Knowledge reasoning QA     text only                Hard   \n",
       "1110  Knowledge reasoning QA     text only                Hard   \n",
       "1111  Knowledge reasoning QA     text only                Hard   \n",
       "1112  Knowledge reasoning QA     text only                Hard   \n",
       "1113       Math reasoning QA     text only                Hard   \n",
       "...                      ...           ...                 ...   \n",
       "1168       Math reasoning QA     text only                Hard   \n",
       "1169       Math reasoning QA     text only                Hard   \n",
       "1170       Math reasoning QA     text only                Hard   \n",
       "1171       Math reasoning QA     text only                Hard   \n",
       "1172  Knowledge reasoning QA     text only                Hard   \n",
       "\n",
       "                                       Knowledge Topics  \\\n",
       "1109  Stress Testing, Capital and Liquidity Requirem...   \n",
       "1110  Operational Risk, Capital Requirements, Measur...   \n",
       "1111  Operational risk measurement, Advanced measure...   \n",
       "1112  Country risk analysis, Sovereign credit risk, ...   \n",
       "1113  Credit risk modeling, Hazard rate, Default pro...   \n",
       "...                                                 ...   \n",
       "1168  Discount Factor Calculation, Time Value of Mon...   \n",
       "1169  Time Value of Money, Interest Rate Calculation...   \n",
       "1170  Currency Swaps, Compounding Interest, Financia...   \n",
       "1171  Bond Pricing, Arbitrage Pricing Theory, Treasu...   \n",
       "1172  Types of bonds, Bond covenants, Call and put p...   \n",
       "\n",
       "                 General Topics                 Book Label  \n",
       "1109  Valuation and Risk Models  Valuationand Risk Models2  \n",
       "1110  Valuation and Risk Models  Valuationand Risk Models2  \n",
       "1111  Valuation and Risk Models  Valuationand Risk Models2  \n",
       "1112  Valuation and Risk Models  Valuationand Risk Models2  \n",
       "1113  Valuation and Risk Models  Valuationand Risk Models2  \n",
       "...                         ...                        ...  \n",
       "1168  Valuation and Risk Models  Valuationand Risk Models2  \n",
       "1169  Valuation and Risk Models  Valuationand Risk Models2  \n",
       "1170  Valuation and Risk Models  Valuationand Risk Models2  \n",
       "1171  Valuation and Risk Models  Valuationand Risk Models2  \n",
       "1172  Valuation and Risk Models  Valuationand Risk Models2  \n",
       "\n",
       "[64 rows x 15 columns]"
      ]
     },
     "execution_count": 55,
     "metadata": {},
     "output_type": "execute_result"
    }
   ],
   "source": [
    "import json\n",
    "from pathlib import Path\n",
    "from pprint import pprint\n",
    "import pandas as pd\n",
    "\n",
    "file_path = '/Volumes/Jennie/Reasoning/FinReasoning/dataset/data.csv'\n",
    "data = pd.read_csv(file_path)\n",
    "data=data[data['Book Label']==\"Valuationand Risk Models2\"]\n",
    "data"
   ]
  },
  {
   "cell_type": "code",
   "execution_count": 56,
   "metadata": {},
   "outputs": [
    {
     "name": "stdout",
     "output_type": "stream",
     "text": [
      "2367\n"
     ]
    },
    {
     "data": {
      "text/markdown": [
       "This question focuses on the principles of stress testing and the key elements of stress testing.\n",
       "\n",
       "For Option A, stress testing is a method of assessing the impact of extreme market scenarios on a bank. This method estimates the performance of financial institutions under extreme conditions to determine whether they have sufficient capital and liquid assets to withstand such scenarios. Therefore, this option is correct in description but does not meet the question’s requirements, making it incorrect.\n",
       "\n",
       "For Option B, reverse stress testing analyzes which extreme scenarios would lead to the failure of a financial institution. Thus, this option is correct in description but does not meet the question’s requirements, making it incorrect.\n",
       "\n",
       "For Option C, extreme events often have a severe impact on the banking system, although the likelihood of such events occurring is low. Therefore, this option is incorrect in description, meeting the question’s requirements, making it correct.\n",
       "\n",
       "For Option D, scenario selection is one of the key elements of stress testing. The first step in scenario selection is to determine an appropriate time horizon. This horizon should be long enough to assess the full impact of the scenario, typically ranging from 3 months to 2 years. In some cases, it may be much longer, spanning several decades, such as in certain pension plans or insurance companies. Thus, this option is correct in description but does not meet the question’s requirements, making it incorrect.\n",
       "\n",
       "Therefore, the correct answer is C."
      ],
      "text/plain": [
       "<IPython.core.display.Markdown object>"
      ]
     },
     "metadata": {},
     "output_type": "display_data"
    },
    {
     "name": "stdout",
     "output_type": "stream",
     "text": [
      "---------------------------------------------------\n",
      "2366\n"
     ]
    },
    {
     "data": {
      "text/markdown": [
       "This question focuses on differentiating between models for measuring operational risk.\\n\\nIf the **BIA model** (Basic Indicator Approach) is used, in cases where there has been no negative gross profit, the average gross profit over the past three years multiplied by 15% can be used to calculate the capital amount. In 2018: Gross profit = 380 + 712 + 846 = USD 1,938 billion. Similarly, the gross profit for 2017 and 2016 was USD 1,766 billion and USD 1,612 billion, respectively. The average gross profit for the past three years is USD 1,772 billion. The operational risk capital requirement is $1,772 \\times 15\\% = USD 265.8$ billion. Therefore, I is correct.\\n\\nIf the **SA model** (Standardized Approach) is used, different business lines have different multipliers for gross profit. The multipliers for retail banking, commercial banking, and sales and trading are 12%, 15%, and 18%, respectively. \\n\\nFor 2018: $0.12 \\times 380 + 0.15 \\times 712 + 0.18 \\times 846 = USD 304.68$ billion  \\nFor 2017: $0.12 \\times 344 + 0.15 \\times 645 + 0.18 \\times 777 = USD 277.89$ billion  \\nFor 2016: $0.12 \\times 326 + 0.15 \\times 599 + 0.18 \\times 687 = USD 252.63$ billion\\n\\nThe operational risk capital requirement is $(304.68 + 277.89 + 252.63) / 3 = USD 278.4$ billion. The result calculated using the SA model is greater than that calculated using the BIA model. Therefore, II is incorrect.\\n\\nIf the **AMA model** (Advanced Measurement Approach) is used to calculate operational risk capital, it requires modeling the frequency and severity of losses to create a loss distribution. Therefore, III is correct."
      ],
      "text/plain": [
       "<IPython.core.display.Markdown object>"
      ]
     },
     "metadata": {},
     "output_type": "display_data"
    },
    {
     "name": "stdout",
     "output_type": "stream",
     "text": [
      "---------------------------------------------------\n",
      "2365\n"
     ]
    },
    {
     "data": {
      "text/markdown": [
       "This question focuses on measuring operational risk. When using advanced measurement approaches to model and analyze operational risk, a bank’s historical data may be insufficient; therefore, external data can serve as a supplementary source. However, when using external data, it is necessary first to adjust the loss amounts based on the revenue scale differences between external banks and the bank itself. Therefore, I is incorrect.\n",
       "\n",
       "When selecting a model, Poisson distribution can be used to model loss frequency, and log-normal distribution can be used to model loss severity. II incorrectly switches the applications of these two distributions, so II is incorrect.\n",
       "\n",
       "Therefore, the correct answer is option D."
      ],
      "text/plain": [
       "<IPython.core.display.Markdown object>"
      ]
     },
     "metadata": {},
     "output_type": "display_data"
    },
    {
     "name": "stdout",
     "output_type": "stream",
     "text": [
      "---------------------------------------------------\n",
      "2364\n"
     ]
    },
    {
     "data": {
      "text/markdown": [
       "This question focuses on sovereign credit risk. I is incorrect because sovereign bonds denominated in foreign currency are more likely to default compared to those denominated in the domestic currency. II is incorrect as well. The term 'granular' originally means granularity, indicating that sovereign default spreads reflect more detailed information than credit ratings do, because any information related to sovereign credit is quickly reflected in the spread of traded sovereign bonds. Therefore, it should be 'more granular' rather than 'less granular."
      ],
      "text/plain": [
       "<IPython.core.display.Markdown object>"
      ]
     },
     "metadata": {},
     "output_type": "display_data"
    },
    {
     "name": "stdout",
     "output_type": "stream",
     "text": [
      "---------------------------------------------------\n",
      "2363\n"
     ]
    },
    {
     "data": {
      "text/markdown": [
       "This question focuses on calculating default probabilities.\\n\\nHere, we need to calculate two default probabilities: cumulative default probability and unconditional default probability. \\'Within next four years\\' is the English expression for cumulative default probability, emphasizing the accumulated probability over four years. \\'Between years two and four\\' is the English expression for unconditional default probability, referring to the probability of default in the second to fourth years without considering other conditions.\\n\\n$\\n\\text{Cumulative PD} = 1 - e^{-\\lambda t} = 1 - e^{-1.5\\% \\times 4} = 5.82\\%\\n$\\n\\n$\\n\\text{Unconditional PD} = (1 - e^{-\\lambda (t+k)}) - (1 - e^{-\\lambda t}) = (1 - e^{-1.5\\% \\times 4}) - (1 - e^{-1.5\\% \\times 2}) = 2.87\\%\\n$"
      ],
      "text/plain": [
       "<IPython.core.display.Markdown object>"
      ]
     },
     "metadata": {},
     "output_type": "display_data"
    },
    {
     "name": "stdout",
     "output_type": "stream",
     "text": [
      "---------------------------------------------------\n",
      "2362\n"
     ]
    },
    {
     "data": {
      "text/markdown": [
       "This question focuses on the quantitative calculation and qualitative understanding of credit risk. When considering the credit risk of a single asset or a portfolio, we use expected loss and the standard deviation of credit loss.\\n\\nThe expected loss for a single asset is:\\n$\\nPD_i \\times EAD_i \\times LGD_i = 1\\% \\times 1 \\text{ million} \\times 100\\% = 10,000 \\text{ (loss given default = 1 - recovery rate)}\\n$\\n\\nThe standard deviation of credit loss for a single asset is:\\n$\\n\\sigma_i = \\sqrt{PD_i - PD_i^2 \\times (LGD_i \\times EAD_i)} = \\sqrt{1\\% - (1\\%)^2 \\times 100\\% \\times 1 \\text{ million}} = 99,499\\n$\\n\\nTherefore, **Options B** and **D** are correct.\\n\\nThe expected loss for a portfolio is the linear sum of the expected losses of individual assets, so **Option A** is correct.\\n\\nWhen calculating the standard deviation of credit loss for a portfolio, we must consider the default correlation between assets. As long as the correlation is less than 1, diversification benefits exist; it does not need to be greater than 0 for diversification benefits. Therefore, **Option C** is incorrect."
      ],
      "text/plain": [
       "<IPython.core.display.Markdown object>"
      ]
     },
     "metadata": {},
     "output_type": "display_data"
    },
    {
     "name": "stdout",
     "output_type": "stream",
     "text": [
      "---------------------------------------------------\n",
      "2361\n"
     ]
    },
    {
     "data": {
      "text/markdown": [
       "This question focuses on distinguishing between expected loss and unexpected loss. Regulatory authorities are primarily concerned with whether the bank can maintain solvency during economic turmoil, so regulators are more focused on unexpected loss. Therefore, Options A and B are incorrect.\n",
       "\n",
       "Before unexpected loss occurs — for instance, when the loss rate is higher than the expected loss rate — banks should reserve capital to address this. Therefore, Option D is incorrect, and Option C is correct."
      ],
      "text/plain": [
       "<IPython.core.display.Markdown object>"
      ]
     },
     "metadata": {},
     "output_type": "display_data"
    },
    {
     "name": "stdout",
     "output_type": "stream",
     "text": [
      "---------------------------------------------------\n",
      "2360\n"
     ]
    },
    {
     "data": {
      "text/markdown": [
       "This question focuses on the causes of credit risk. An upgrade in the borrower’s credit rating from Ba to Baa will reduce the probability of default, thereby reducing the expected loss. However, since the company has not actually defaulted, the actual loss remains unchanged."
      ],
      "text/plain": [
       "<IPython.core.display.Markdown object>"
      ]
     },
     "metadata": {},
     "output_type": "display_data"
    },
    {
     "name": "stdout",
     "output_type": "stream",
     "text": [
      "---------------------------------------------------\n",
      "2359\n"
     ]
    },
    {
     "data": {
      "text/markdown": [
       "This question focuses on distinguishing between point-in-time and through-the-cycle rating methods. The point-in-time rating method (rather than the through-the-cycle method) is procyclical. Therefore, Option D is incorrect and is the correct choice.\n",
       "\n",
       "The point-in-time rating method is characterized by its focus on the short-term credit status of the rated entity, allowing it to reflect new market information promptly, making Option A correct. The through-the-cycle rating method takes a long-term perspective to assess the credit risk of the rated entity, so Option B is correct. Under the point-in-time rating method, rating results often fluctuate with changes in the credit status of the rated entity, resulting in high volatility in rating outcomes, so Option C is correct."
      ],
      "text/plain": [
       "<IPython.core.display.Markdown object>"
      ]
     },
     "metadata": {},
     "output_type": "display_data"
    },
    {
     "name": "stdout",
     "output_type": "stream",
     "text": [
      "---------------------------------------------------\n",
      "2358\n"
     ]
    },
    {
     "data": {
      "text/markdown": [
       "This question focuses on the use of the rating transition matrix. The probability of an Aaa-rated bond defaulting within two years, along with the corresponding probabilities, is as follows:\\n\\n- $ \\text{Aaa} \\rightarrow \\text{D} = 0\\% $\\n- $ \\text{Aaa} \\rightarrow \\text{Aaa} \\rightarrow \\text{D} = 90\\% \\times 0\\% = 0\\% $\\n- $ \\text{Aaa} \\rightarrow \\text{Baa} \\rightarrow \\text{D} = 10\\% \\times 5\\% = 0.5\\% $\\n- $ \\text{Aaa} \\rightarrow \\text{Caa} \\rightarrow \\text{D} = 0\\% \\times 15\\% = 0\\% $\\n\\nThus, the probability $ P = 0\\% + 0\\% + 0.5\\% + 0\\% = 0.5\\% $, so **Option C** is the correct choice."
      ],
      "text/plain": [
       "<IPython.core.display.Markdown object>"
      ]
     },
     "metadata": {},
     "output_type": "display_data"
    },
    {
     "name": "stdout",
     "output_type": "stream",
     "text": [
      "---------------------------------------------------\n",
      "2357\n"
     ]
    },
    {
     "data": {
      "text/markdown": [
       "This question focuses on distinguishing between external and internal ratings. Internal ratings can be constructed based on multiple factors and require periodic back-testing for calibration, so I is correct.\n",
       "\n",
       "Moody's Baa3 and S&P BBB- (not BBB+) are the same rating level, so II is incorrect"
      ],
      "text/plain": [
       "<IPython.core.display.Markdown object>"
      ]
     },
     "metadata": {},
     "output_type": "display_data"
    },
    {
     "name": "stdout",
     "output_type": "stream",
     "text": [
      "---------------------------------------------------\n",
      "2356\n"
     ]
    },
    {
     "data": {
      "text/markdown": [
       "This question focuses on the application of the EWMA model and the GARCH (1,1) model.\\n\\nWhen $ \\lambda = 0, \\alpha = 1 - \\lambda, \\beta = \\lambda $, the GARCH (1,1) model is equivalent to the EWMA model. Therefore, the EWMA model can be considered a special case of the GARCH (1,1) model, not the other way around. Thus, **Statement 1** is incorrect.\\n\\nWhen using the EWMA model to estimate the correlation coefficient, consistency should be maintained; that is, the value of $ \\lambda $ used in the model to estimate covariance should also be used in the model estimating asset volatility. Therefore, **Statement 2** is correct."
      ],
      "text/plain": [
       "<IPython.core.display.Markdown object>"
      ]
     },
     "metadata": {},
     "output_type": "display_data"
    },
    {
     "name": "stdout",
     "output_type": "stream",
     "text": [
      "---------------------------------------------------\n",
      "2355\n"
     ]
    },
    {
     "data": {
      "text/markdown": [
       "The focus of this question is on the application of exponentially declining weights.\n",
       "$$\n",
       "\\alpha_i = (1 - \\lambda) \\lambda^{i-1} = (1 - 0.94) \\times 0.94^{7-1} = 4.14\\%\n",
       "$$\n",
       "Therefore, option C is correct."
      ],
      "text/plain": [
       "<IPython.core.display.Markdown object>"
      ]
     },
     "metadata": {},
     "output_type": "display_data"
    },
    {
     "name": "stdout",
     "output_type": "stream",
     "text": [
      "---------------------------------------------------\n",
      "2354\n"
     ]
    },
    {
     "data": {
      "text/markdown": [
       "本题考点为GARCH (1,1)模型的综合运用。\n",
       "\n",
       "首先，计算在 \\( t-1 \\) 时刻的指数回报:\n",
       "\n",
       "$$\n",
       "\\mu_{t-1} = \\frac{6400 - 6480}{6480} = -0.0123\n",
       "$$\n",
       "\n",
       "其次，计算在 \\( t \\) 时刻的更新后的波动率:\n",
       "\n",
       "$$\n",
       "\\sigma_t^2 = 0.000014 + 0.07 \\times (-0.0123)^2 + 0.85 \\times 0.015^2 = 0.00021584\n",
       "$$\n",
       "\n",
       "$$\n",
       "\\sigma_t = \\sqrt{\\sigma_t^2} = \\sqrt{0.00021584} = 0.014692\n",
       "$$\n",
       "\n",
       "由于回报的均值为0%，因此下一个交易日的指数期望值和当前指数的数值相等，即6400。\n",
       "并且，在使用一个标准差后可以计算出区间的上限和下限:\n",
       "\n",
       "$$\n",
       "6400 - 6400 \\times 0.0147 = 6306\n",
       "$$\n",
       "\n",
       "$$\n",
       "6400 + 6400 \\times 0.0147 = 6494\n",
       "$$\n",
       "\n",
       "因此，依据均值构建的一个标准差区间为\\[6,306, 6,494\\]。最接近的选项为 C。\n",
       "\n"
      ],
      "text/plain": [
       "<IPython.core.display.Markdown object>"
      ]
     },
     "metadata": {},
     "output_type": "display_data"
    },
    {
     "name": "stdout",
     "output_type": "stream",
     "text": [
      "---------------------------------------------------\n",
      "2353\n"
     ]
    },
    {
     "data": {
      "text/markdown": [
       "本题的考点为GARCH (1,1)模型的运用。四个选项中模型的Persistence Level（α + β）分别\n",
       "为0.94、0.98、0.97、0.96。而Persistence Level最大的模型均值复归的速度最慢，因此B选项正确。"
      ],
      "text/plain": [
       "<IPython.core.display.Markdown object>"
      ]
     },
     "metadata": {},
     "output_type": "display_data"
    },
    {
     "name": "stdout",
     "output_type": "stream",
     "text": [
      "---------------------------------------------------\n",
      "2352\n"
     ]
    },
    {
     "data": {
      "text/markdown": [
       "本题的考点为 GARCH (1,1)模型的运用。  \n",
       "首先计算长期波动率:  \n",
       "$$\n",
       "\\sigma_L = \\sqrt{\\frac{\\omega}{1 - \\alpha - \\beta}} = \\sqrt{\\frac{0.000175}{1 - 0.025 - 0.82}} = 3.36\\%\n",
       "$$  \n",
       "其次，计算该股票的夏普比率:  \n",
       "$$\n",
       "SR = \\frac{E(R_p) - R_f}{\\sigma_L \\times \\sqrt{250}} = \\frac{15\\% - 5\\%}{3.36\\% \\times \\sqrt{250}} = 0.19\n",
       "$$"
      ],
      "text/plain": [
       "<IPython.core.display.Markdown object>"
      ]
     },
     "metadata": {},
     "output_type": "display_data"
    },
    {
     "name": "stdout",
     "output_type": "stream",
     "text": [
      "---------------------------------------------------\n",
      "2351\n"
     ]
    },
    {
     "data": {
      "text/markdown": [
       "本文的考点为 GARCH (1,1)模型的运用。\n",
       "\n",
       "$$\n",
       "\\sigma^2 = 0.000003 + 0.04 \\times 0.02^2 + 0.92 \\times 0.01^2 = 0.000111\n",
       "$$\n",
       "\n",
       "$$\n",
       "\\sigma = \\sqrt{0.000111} = 1.054\\%\n",
       "$$\n",
       "\n",
       "$$\n",
       "\\text{Long run variance} = \\frac{\\omega }{(1 - \\alpha - \\beta)} = \\frac{0.000003}{(1 - 0.04 - 0.92)} = 0.000075\n",
       "$$\n",
       "\n",
       "$$\n",
       "\\text{Long run volatility} = \\sqrt{0.000075} = 0.866\\%\n",
       "$$"
      ],
      "text/plain": [
       "<IPython.core.display.Markdown object>"
      ]
     },
     "metadata": {},
     "output_type": "display_data"
    },
    {
     "name": "stdout",
     "output_type": "stream",
     "text": [
      "---------------------------------------------------\n",
      "2350\n"
     ]
    },
    {
     "data": {
      "text/markdown": [
       "本题考点为EWMA模型和GARCH (1,1)模型的辨析。David关于两个模型的描述均正确。EWMA模型\n",
       "在计算时包含了历史的回报的平方，并且离现在越久远的回报的平方权重以λ为指数递减。由于在模型中加\n",
       "入了长期方差，因此GARCH (1,1)模型具有均值复归水平。而且，+被称为Persistence Level，其数值大小与\n",
       "均值复归速度呈反向关系。因此，两个描述均正确。"
      ],
      "text/plain": [
       "<IPython.core.display.Markdown object>"
      ]
     },
     "metadata": {},
     "output_type": "display_data"
    },
    {
     "name": "stdout",
     "output_type": "stream",
     "text": [
      "---------------------------------------------------\n",
      "2349\n"
     ]
    },
    {
     "data": {
      "text/markdown": [
       "本题的考点为计算VaR的方法之间的差异。通过假设的分布，蒙特卡洛模拟可以生成不同的情景\n",
       "，并且可以反映风险因子之间的相关性，因此D选项正确。对于A选项，历史模拟法是一种非参数方法，我们\n",
       "并不需要估计参数从而确定分布，因此该选项错误。对于B选项，历史模拟法的缺点之一是不能很快反映市场\n",
       "当中的新信息，因此该选项错误。对于C选项，Delta normal approach容易使用，对于线性衍生品的VaR可以\n",
       "给出精确的结果，但当计算对象成为非线性衍生品、MBS、奇异期权时，其结果将会变得非常不可靠，因此该\n",
       "选项错误。 (1)"
      ],
      "text/plain": [
       "<IPython.core.display.Markdown object>"
      ]
     },
     "metadata": {},
     "output_type": "display_data"
    },
    {
     "name": "stdout",
     "output_type": "stream",
     "text": [
      "---------------------------------------------------\n",
      "2348\n"
     ]
    },
    {
     "data": {
      "text/markdown": [
       "本题的考点为不同权重下历史模拟法的区别。\n",
       "\n",
       "对于选项 D，越小的权重应当下降更快。例如为0.8时， 对应权重$[(1-\\lambda) \\times 2^{n-1}]$为0.2、0.16、0.128……而$\\lambda=0.2$时， 对应权重为0.8、0.16、0.032…。因此D选项描述错误，符合题意，为正确选项。\n",
       "\n",
       "对于选项 A，直接套公式$W_{62} = (1 - 0.97) \\times 0.97^{62-1} = 0.00468$ (也可以直接用右栏的累计算计算得)，因此选项描述正确，不符合题意，为错误选项。\n",
       "\n",
       "对于选项 B， 根据表格最右栏的累计算权重，我们可以知道 5\\% 位数对应的是 0.07\\%-0.15%的某个数，因此我们要求的$VaR$减少$0.07\\%$和$0.15\\%$之间。因此选项描述正确，不符合题意，为错误选项。\n",
       "\n",
       "对于选项 C，如果仅用历史模拟法，所求的 $5\\% VaR$ 是0.74%，这个值要比 B 选项算出的 $VaR$ 要大。因此选项描述正确，不符合题意，为错误选项。"
      ],
      "text/plain": [
       "<IPython.core.display.Markdown object>"
      ]
     },
     "metadata": {},
     "output_type": "display_data"
    },
    {
     "name": "stdout",
     "output_type": "stream",
     "text": [
      "---------------------------------------------------\n",
      "2347\n"
     ]
    },
    {
     "data": {
      "text/markdown": [
       "本题的考点为等权重的历史模拟法。I错误，因为等权重历史模拟法赋予历史每一天的信息相同\n",
       "的权重。II正确，因为等权重历史模拟法对过去一段时间每天的信息赋予相同的权重，所以没有办法迅速反\n",
       "映出一个最新的波动率变化。所以对于一个波动率期限结构上升的情形，等权重历史模拟法估计出来的结果\n",
       "会低估真实的情况。III错误。历史模拟法是非参数法，利用了历史数据，肥尾的情况已经直接反应在历史数\n",
       "据中。由于没有假设分布，所以也就自然不会受到肥尾等因素的影响。IV历史模拟法不需要用的delta\n",
       "approximation，这句话描述历史模拟法本来就是错误的。所以答案选择C选项。"
      ],
      "text/plain": [
       "<IPython.core.display.Markdown object>"
      ]
     },
     "metadata": {},
     "output_type": "display_data"
    },
    {
     "name": "stdout",
     "output_type": "stream",
     "text": [
      "---------------------------------------------------\n",
      "2346\n"
     ]
    },
    {
     "data": {
      "text/markdown": [
       "本题的考点为资产回报的分布。在条件分布的假设前提下，假设资产回报是服从正态分布是合\n",
       "理的，只是可能在不同时期对应的正态分布的参数不同（例如，危机的时候所用正态分布方差这个参数更大\n",
       "），这样的假设也很好的解释肥尾现象，所以I错误，II正确。去捕捉不同时期对应的波动率，机制转换\n",
       "（regime-switching）模型和缓慢变换（slow-changing）模型都是可选的，并不是机制转换模型一定更好。\n",
       "因此，答案选择B选项。"
      ],
      "text/plain": [
       "<IPython.core.display.Markdown object>"
      ]
     },
     "metadata": {},
     "output_type": "display_data"
    },
    {
     "name": "stdout",
     "output_type": "stream",
     "text": [
      "---------------------------------------------------\n",
      "2345\n"
     ]
    },
    {
     "data": {
      "text/markdown": [
       "本题的考点为使用 delta-gamma 近似法计算 VaR。\n",
       "因为这个 put option 是 at the money，所以它的 delta 等于 $-0.5$，因此计算期权的 VaR 等于：\n",
       "\n",
       "$$\n",
       "\\$100,000 \\times 10.4% \\times 0.5 = \\$5,200.\n",
       "$$\n",
       "\n",
       "如果考虑 gamma 的影响，公式应是：\n",
       "\n",
       "$$\n",
       "|\\Delta| \\times VaR - \\frac{1}{2} \\Gamma \\times VaR^2,\n",
       "$$\n",
       "\n",
       "正的 gamma 会降低 VaR，所以考虑了 gamma 效应的 VaR 应该小于 $5,200$."
      ],
      "text/plain": [
       "<IPython.core.display.Markdown object>"
      ]
     },
     "metadata": {},
     "output_type": "display_data"
    },
    {
     "name": "stdout",
     "output_type": "stream",
     "text": [
      "---------------------------------------------------\n",
      "2344\n"
     ]
    },
    {
     "data": {
      "text/markdown": [
       "本文的考点为不同VaR的计算方法的辨析。  \n",
       "通过正态分布假设计算VaR的公式是：$[R_P - zx\\sigma] x (Value of Portfolio)$，其中 $R_P$ 是组合一日回报的期望值，$z$ 是根据置信度得到的关键值，$\\sigma$ 是一日回报的标准差。将题目中给条件代入得到：  \n",
       "$$\n",
       "|0.0004 - 2.05 \\times 0.0095| \\times 100,000,000 = 1,907,500.\n",
       "$$  \n",
       "通过历史模拟法找VaR，总共有250个历史数据，2%的位点对应第五个极端大损失，也就是-2.59%；所以，用历史模拟法得到的VaR应该是：  \n",
       "$$\n",
       "|-0.0259| \\times 100,000,000 = 2,590,000\n",
       "$$"
      ],
      "text/plain": [
       "<IPython.core.display.Markdown object>"
      ]
     },
     "metadata": {},
     "output_type": "display_data"
    },
    {
     "name": "stdout",
     "output_type": "stream",
     "text": [
      "---------------------------------------------------\n",
      "2343\n"
     ]
    },
    {
     "data": {
      "text/markdown": [
       "本题主要考察VaR的计算方式以及VaR和Expected shortfall的对比。对于\n",
       "Statement 1：Expected shortfall描述尾部亏损，但是VaR只是某一分位点的亏损，并没有描述整体尾部的\n",
       "风险。而Statement I说的是VaR和Expected shortfall两个方法都均描述了尾部亏损。因此该描述错误。对\n",
       "于Statement 2：历史模拟法包含了过去的价格和相关性信息是正确的。但是这道题表明，市场要从牛市变换\n",
       "为熊市，因此未来和过去有很大的不同，不能简单的用过去来预测未来了，因此历史模拟法不再适用。因此\n",
       "该描述错误。对于Statement 3：根据题意，市场要从牛市变换为熊市，而蒙特卡洛模拟是可以调整风险因子\n",
       "的分布的，所以在这种情况下可以通过蒙特卡洛模拟来计算组合VaR值的。但是蒙特卡洛模拟需要先假定风险\n",
       "因子的分布模型，因此会存在模型风险。因此该描述错误。对于Statement 4：VaR期权属于非线性衍生工具\n",
       "，在用不带gamma修正的delta normal的方法计算VaR值会存在较大误差。因此该描述错误。综上所述，所有\n",
       "Statements都是错误的。因此选项D正确。"
      ],
      "text/plain": [
       "<IPython.core.display.Markdown object>"
      ]
     },
     "metadata": {},
     "output_type": "display_data"
    },
    {
     "name": "stdout",
     "output_type": "stream",
     "text": [
      "---------------------------------------------------\n",
      "2342\n"
     ]
    },
    {
     "data": {
      "text/markdown": [
       "本文的考点为不同时间期间的 VaR 的转换。\n",
       "已知每日回报服从正态分布，并已知均值和方差，后可以求 VaR。首先求出回报的每日波动率（Volatility）：Volatility of daily returns =0.05% = 0.0224，再利用平方根法则求出十天的波动率：Volatility of 10-days return = 0.0224 × $\\sqrt{10}$ = 0.0708，十天的回报的均值：\n",
       "Mean of 10-days return = 0.25%×10 = 2.5%。利用公式可以求出: 10-day 95% VaR =|10M (2.5% - 1.645×0.0708) |=914,660。所以答案选择 D 选项。"
      ],
      "text/plain": [
       "<IPython.core.display.Markdown object>"
      ]
     },
     "metadata": {},
     "output_type": "display_data"
    },
    {
     "name": "stdout",
     "output_type": "stream",
     "text": [
      "---------------------------------------------------\n",
      "2341\n"
     ]
    },
    {
     "data": {
      "text/markdown": [
       "本题的考点为VaR的计算。经过更新四个新的极端损失后，把损失从大到小排序可以得到：-\n",
       "25%，-9.5%，-7.8%，-6.3%，-4.7%，-4.1%。对应的是95%的一天的VaR值，总共数据100个，应该选择5%分位\n",
       "点，也就是第五个数字-4.7%作为VaR。再计算美元的VaR就是4.7% 100 = 4.7 million."
      ],
      "text/plain": [
       "<IPython.core.display.Markdown object>"
      ]
     },
     "metadata": {},
     "output_type": "display_data"
    },
    {
     "name": "stdout",
     "output_type": "stream",
     "text": [
      "---------------------------------------------------\n",
      "2340\n"
     ]
    },
    {
     "data": {
      "text/markdown": [
       "本题考点为VaR的计算。根据历史400个数据，选择1%的分位点对应的损失，从最大的损失开始\n",
       "选择第四个损失值就是对应的百分比的一天内的VaR，也就是-1.82%，通过与组合价值800 million相乘，可\n",
       "以得到美元的VaR是14.56 million：。所以答案选择B选项。"
      ],
      "text/plain": [
       "<IPython.core.display.Markdown object>"
      ]
     },
     "metadata": {},
     "output_type": "display_data"
    },
    {
     "name": "stdout",
     "output_type": "stream",
     "text": [
      "---------------------------------------------------\n",
      "2339\n"
     ]
    },
    {
     "data": {
      "text/markdown": [
       "本题考点为VaR的定义。90%置信水平下的VaR是5,000美元，反映的是有90%的时间损失小于\n",
       "5,000美元，即10天中有9天的时间损失小于5,000美元，也就等价于10天中有1天的时间损失大于5,000美元。\n",
       "所以选择答案C。"
      ],
      "text/plain": [
       "<IPython.core.display.Markdown object>"
      ]
     },
     "metadata": {},
     "output_type": "display_data"
    },
    {
     "name": "stdout",
     "output_type": "stream",
     "text": [
      "---------------------------------------------------\n",
      "2338\n"
     ]
    },
    {
     "data": {
      "text/markdown": [
       "本题的考点为满足一致性的风险测度指标。一个满足一致性的风险测度指标（a coherent risk\n",
       "measure）要满足下面四个条件：• Monotonicity（单调性）: 优质资产的风险不会比劣质资产的要大•\n",
       "Subadditivity（次可加性）: 组合的风险不会比部分风险加总大• Homogeneity（齐次性）: 成比例增加的\n",
       "头寸的风险等于原来头寸的风险成比例增加• Translational invariance（转移不变性）: 加了现金或其他\n",
       "无风险资产以后总头寸的风险会相较原来头寸的风险减少，减少的量恰好是其所增加的现金或无风险资产的\n",
       "数量。VaR不是一个一致性的风险测度指标，因为不满足次可加性，所以B和D选项错误。ES 是尾部损失的期\n",
       "望值，是满足一致性的风险测度指标，所以C选项正确，A选项错误。"
      ],
      "text/plain": [
       "<IPython.core.display.Markdown object>"
      ]
     },
     "metadata": {},
     "output_type": "display_data"
    },
    {
     "name": "stdout",
     "output_type": "stream",
     "text": [
      "---------------------------------------------------\n",
      "2337\n"
     ]
    },
    {
     "data": {
      "text/markdown": [
       "本题考虑为使用美国国债期货对利率风险进行对冲。\n",
       "\n",
       "根据题目, 一份美国国债期货合约的市场价值是: $100,000 \\times (96 + 16/32) = 96,500$。对冲的原则是: \n",
       "$$\n",
       "N = \\frac{E_V}{D_F}\n",
       "$$\n",
       "其中 $E_V$ 是现有组合的基点价值, $D_F$ 是对冲工具的基点价值。代入题目中已知条件, 解析: \n",
       "$$\n",
       "N = \\frac{E_V}{D_F} = \\frac{-2.5 \\times 50,000,000 \\times 0.0001}{4 \\times 96,500 \\times 0.0001} \\approx -324\n",
       "$$\n",
       "所以经理需要做空 324 份期货合约来进行对冲。答案选择 C 选项。"
      ],
      "text/plain": [
       "<IPython.core.display.Markdown object>"
      ]
     },
     "metadata": {},
     "output_type": "display_data"
    },
    {
     "name": "stdout",
     "output_type": "stream",
     "text": [
      "---------------------------------------------------\n",
      "2336\n"
     ]
    },
    {
     "data": {
      "text/markdown": [
       "本题的考点为使用欧洲美元期货对利率风险进行对冲。\n",
       "\n",
       "Nick 和 Daisy 害怕未来一段时间的利率波动，决定采用欧洲美元期货对冲。标的资产为六个月，价值 20million 的货币市场工具（一般为零息债券），所以期限等于交割利久期，而交付利久期依 1+利率约等于修正久期，即它的久期近似于到期债限本身，即 0.5。根据久期的公式，$\\Delta P = \\text{ModDur} \\times P \\times \\Delta y$，我们可以推断，假设利率变动一个基点，这个货币市场工具价值变化为 $20,000,000 \\times 0.5 \\times 0.0001 = 1,000$。\n",
       "\n",
       "根据欧洲美元期货的特点，利率波动一个基点，欧洲美元期货价值变化 25 美元。故未来对冲此货币市场工具，需要 $\\frac{1,000}{25} = 40$ 份欧洲美元期货。所以答案选择 A 选项。"
      ],
      "text/plain": [
       "<IPython.core.display.Markdown object>"
      ]
     },
     "metadata": {},
     "output_type": "display_data"
    },
    {
     "name": "stdout",
     "output_type": "stream",
     "text": [
      "---------------------------------------------------\n",
      "2335\n"
     ]
    },
    {
     "data": {
      "text/markdown": [
       "本题考点为欧洲美元期货利率对远期利率的估计。\n",
       "$$\n",
       "\\text{Forward Rate} = \\text{Futures Rate} - \\frac{1}{2} \\sigma^2 t_1 t_2\n",
       "$$\n",
       "FRA能做对远期利率做出一个准确的估计，但是欧洲美元期货对于远期利率的估计需要做一个凸度调整，也就是上面对应的公式。出现差异的原因在于欧洲美元是每日结算，远期合约是在合约到期时结算，造成了期货合约的隐含利率与实际远期利率之间的差异。这个公式可以看出Futures Rate是大于Forward Rate的。所以选择C选项。"
      ],
      "text/plain": [
       "<IPython.core.display.Markdown object>"
      ]
     },
     "metadata": {},
     "output_type": "display_data"
    },
    {
     "name": "stdout",
     "output_type": "stream",
     "text": [
      "---------------------------------------------------\n",
      "2334\n"
     ]
    },
    {
     "data": {
      "text/markdown": [
       "本文考点为 FRA 结算现金流的计算。\n",
       "\n",
       "解析：对于 M 公司而言，收入定，付浮动，所以当利率实际上升时，M 公司在 FRA 中亏损。\n",
       "\n",
       "在最终结算日损失为：$100M \\times (5\\%-5.5\\%) \\times 0.25=-125,000$，最后根据题意，用实际利率贴现 3 个月。\n",
       "\n",
       "$$\n",
       "\\frac{-125,000}{(1+5.5\\%\\times 0.25)} =- USD \\ 123,304.56，\\text{选 C}。\n",
       "$$"
      ],
      "text/plain": [
       "<IPython.core.display.Markdown object>"
      ]
     },
     "metadata": {},
     "output_type": "display_data"
    },
    {
     "name": "stdout",
     "output_type": "stream",
     "text": [
      "---------------------------------------------------\n",
      "2333\n"
     ]
    },
    {
     "data": {
      "text/markdown": [
       "本题的考点为FRA的期初价值。对于FRA 而言，其期初价值为0。因此，选项D正确。"
      ],
      "text/plain": [
       "<IPython.core.display.Markdown object>"
      ]
     },
     "metadata": {},
     "output_type": "display_data"
    },
    {
     "name": "stdout",
     "output_type": "stream",
     "text": [
      "---------------------------------------------------\n",
      "2332\n"
     ]
    },
    {
     "data": {
      "text/markdown": [
       "本题的考点为FRA相关性质的辨析。选项A中，FRA中的多头方可以看作未来将以一个固定的合约\n",
       "利率借入款项的债务人角色，在未来借款利率上升时可获利，空头为亏损的一方，需要支付款项给多头方\n",
       "，因此错误。选项B中，FRA的结算是在其所覆盖的借款期开始时就进行的，因此正确。选项C中，FRA可以确\n",
       "定未来的借款利率，对于borrower可以对冲利率上涨的风险，对于lender可以对冲利率下降的风险，因此正\n",
       "确。选项D中，FRA的空头方是未来将以一个固定的利率借出款项的一方，当利率下降时可以获利，因此正确\n",
       "。选项B,C,D表述均正确，不符合题意，因此选项A为本题正确答案。"
      ],
      "text/plain": [
       "<IPython.core.display.Markdown object>"
      ]
     },
     "metadata": {},
     "output_type": "display_data"
    },
    {
     "name": "stdout",
     "output_type": "stream",
     "text": [
      "---------------------------------------------------\n",
      "2331\n"
     ]
    },
    {
     "data": {
      "text/markdown": [
       "本题的考点为TBA,repo,specified pool等概念辨析。选项A中，specified pool最终交割是一\n",
       "个确定的资产池，而TBA可交割的一类资产池而非特定资产池，因此正确。选项B中，由于TBA市场是一个远期\n",
       "市场，可交割的资产池并不是特定的资产池而是符合条件的一类资产池，流动性比specified pool更好，因\n",
       "此错误。选项C中，repo是需要回购特定的资产池的，而dollar roll是基于TBA的，最终交割的可以是不一样\n",
       "的资产池，因此正确。选项D中，repo交易中收益率往往是在出售和回购价差中体现的，而dollar roll的收\n",
       "益并不只考虑价差，因此正确。选项A,C,D表述均正确，不符合题意，因此选项B为本题正确答案。"
      ],
      "text/plain": [
       "<IPython.core.display.Markdown object>"
      ]
     },
     "metadata": {},
     "output_type": "display_data"
    },
    {
     "name": "stdout",
     "output_type": "stream",
     "text": [
      "---------------------------------------------------\n",
      "2330\n"
     ]
    },
    {
     "data": {
      "text/markdown": [
       "本题的考点为MBS,MPS,IO,PO知识点的辨析。选项A中，CMO才对房贷池中的现金流进行了分层而\n",
       "不是MPS，因此错误。选项B中，MPS才是agency MBS中最简单的形式而不是CMO，因此错误。选项C中，当提前\n",
       "还款增加时，意味着未偿付的本金减少，则基于未偿付本金计算的利息也减少，IOs的价值会降低。选项D中\n",
       "，随着提前还款增加，PO可以提前收回现金流，价值更大而非更小，因此错误。因此，选项C正确。"
      ],
      "text/plain": [
       "<IPython.core.display.Markdown object>"
      ]
     },
     "metadata": {},
     "output_type": "display_data"
    },
    {
     "name": "stdout",
     "output_type": "stream",
     "text": [
      "---------------------------------------------------\n",
      "2329\n"
     ]
    },
    {
     "data": {
      "text/markdown": [
       "本题的考点为利用 CPR 求 SMM。\n",
       "\n",
       "计算过程如下：\n",
       "\n",
       "$$\n",
       "CPR = 1 - (1 - SMM)^{12}\n",
       "$$\n",
       "\n",
       "$$\n",
       "SMM = 1 - (1 - CPR)^{1/12} = 1 - (1 - 0.055)^{1/12} = 0.004703 = 0.4703\\%\n",
       "$$\n",
       "\n",
       "因此，选项 B 正确。"
      ],
      "text/plain": [
       "<IPython.core.display.Markdown object>"
      ]
     },
     "metadata": {},
     "output_type": "display_data"
    },
    {
     "name": "stdout",
     "output_type": "stream",
     "text": [
      "---------------------------------------------------\n",
      "2328\n"
     ]
    },
    {
     "data": {
      "text/markdown": [
       "本题的考点为计算房贷每月偿付额。  \n",
       "计算过程如下：  \n",
       "$$\n",
       "Amount\\, of\\, loan = 16,119,000 \\times 65\\% = 10,477,350\n",
       "$$\n",
       "$$\n",
       "N = 30 \\times 12 = 360, \\, PV = 10,477,350, \\, I/Y = 4.9/12, \\, FV = 0\n",
       "$$\n",
       "$$\n",
       "CPT PMT = -55,606\n",
       "$$\n",
       "因此，选项 C 正确。  "
      ],
      "text/plain": [
       "<IPython.core.display.Markdown object>"
      ]
     },
     "metadata": {},
     "output_type": "display_data"
    },
    {
     "name": "stdout",
     "output_type": "stream",
     "text": [
      "---------------------------------------------------\n",
      "2327\n"
     ]
    },
    {
     "data": {
      "text/markdown": [
       "本题的考点为关键因子变、关键利率久期及利率曲线非平行移动等概念分析。\n",
       "\n",
       "选项A中，PCA（Principal component analysis, 主成分分析法）要求关键组合的因子之间应该是不相关的（uncorrelated），因此错误。\n",
       "\n",
       "选项B中，在影响债券价格波动的诸多因素当中，利率期限的平行移动（parallel shift）、陡峭程度（steepening or flattening）以及弯度（曲度，bowing）这三个因子可以解释绝大部分利率波动的变动情况，因此正确。选项C前两个关键因子对债券相关性较高的组合会有很将的解释成效，但弯度对收益到期时间较长的债券效用不明显，因此错误。\\* 计算过程如下：\n",
       "\n",
       "$$\n",
       "\\frac{5-2}{7-2} = \\frac{\\Delta5 - year rate}{\\Delta7 - year rate} = 0.6\n",
       "$$\n",
       "\n",
       "$$\n",
       "\\Delta7 - year rate = 1bp,\\Delta5 - year rate = 0.6bp\n",
       "$$\n",
       "\n",
       "因此选项D表述正确。\n",
       "\n",
       "综上，B, C, D都与题意不符，不符合题意。因此，选项A为本题正确答案。"
      ],
      "text/plain": [
       "<IPython.core.display.Markdown object>"
      ]
     },
     "metadata": {},
     "output_type": "display_data"
    },
    {
     "name": "stdout",
     "output_type": "stream",
     "text": [
      "---------------------------------------------------\n",
      "2326\n"
     ]
    },
    {
     "data": {
      "text/markdown": [
       "本题的主要考点为关键利率久期的计算。\n",
       "第5年关键利率基点价值为：\n",
       "\n",
       "$$\n",
       "Key\\ rate^{01} = \\frac{(24.6642 - 24.1234)}{1} = 0.5408\n",
       "$$\n",
       "\n",
       "因此，选项 C 正确。"
      ],
      "text/plain": [
       "<IPython.core.display.Markdown object>"
      ]
     },
     "metadata": {},
     "output_type": "display_data"
    },
    {
     "name": "stdout",
     "output_type": "stream",
     "text": [
      "---------------------------------------------------\n",
      "2325\n"
     ]
    },
    {
     "data": {
      "text/markdown": [
       "本题的考点为利率曲线非平行移动的衡量测度。选项A中Key-rate 01’s表示当关键利率变动\n",
       "1个bp时债券价格的变动值。选项B中Forward-bucket 01’s表示远期利率期限结构中某一段远期利率变动1个\n",
       "bp时债券价格的变动值。选项C中Key-rate duration表示当关键利率发生变化时债券价格变动的百分比。选\n",
       "项D中DV01表示当利率曲线整体平行移动1个bp时债券价值的变动值。选项A,B,C中描述的久期都属于利率曲线\n",
       "非平行移动时的风险测度，选项D属于利率曲线平行移动的风险测度。因此，选项D正确。"
      ],
      "text/plain": [
       "<IPython.core.display.Markdown object>"
      ]
     },
     "metadata": {},
     "output_type": "display_data"
    },
    {
     "name": "stdout",
     "output_type": "stream",
     "text": [
      "---------------------------------------------------\n",
      "2324\n"
     ]
    },
    {
     "data": {
      "text/markdown": [
       "本题的考点为债券久期与凸度相关知识的概念辨析。陈述I:：收益率久期，诸如麦考利久期、\n",
       "修正久期和美元久期，都是不可用于含权债券久期的计算的，因此正确。陈述II：凸度的特点为“涨多跌少\n",
       "”，因此在利率下降时，凸度更大的债券获益更多。陈述III：有相同久期的债券，现金流越分散，其凸度越\n",
       "大，即杠铃式债券组合的凸度应大于子弹式债券组合，因此错误。陈述IV：DV01是指当利率变化1个bp，即\n",
       "0.01%时债券价值的变化额，因此错误。陈述I和陈述II均正确，因此，选项B正确。"
      ],
      "text/plain": [
       "<IPython.core.display.Markdown object>"
      ]
     },
     "metadata": {},
     "output_type": "display_data"
    },
    {
     "name": "stdout",
     "output_type": "stream",
     "text": [
      "---------------------------------------------------\n",
      "2323\n"
     ]
    },
    {
     "data": {
      "text/markdown": [
       "本题的考点为利率下降时对可赎回债券和可回售债券的凸度影响。利率下降，可赎回债券\n",
       "(callable)呈现出负凸性；利率上升，可回售债券(putable)呈现出更高的凸性。Wendy的观点，认为利率下\n",
       "降时，可回售债券呈现出更高的凸性，错误。Jackson的观点，认为利率下降时，可赎回债券呈现出更高的凸\n",
       "性，利率上升，可赎回债券呈现出负凸性，更加错误。因此，选项B正确。"
      ],
      "text/plain": [
       "<IPython.core.display.Markdown object>"
      ]
     },
     "metadata": {},
     "output_type": "display_data"
    },
    {
     "name": "stdout",
     "output_type": "stream",
     "text": [
      "---------------------------------------------------\n",
      "2322\n"
     ]
    },
    {
     "data": {
      "text/markdown": [
       "本题的考点为收益率下降 100 个基点，对于组合价格变化百分比的影响。\n",
       "首先，利率变化和价格变化是反向关系。利率下降，价格上升，排除 C，D 两项。\n",
       "其次，本题考查的是利率发生大规模变化的情况，不仅要考考虑久期，也得考虑凸性的影响。\n",
       "最后，本题研究的是组合的情况，组合的修正久期和修正凸度，是组成部分的修正久期和\n",
       "修正凸度的加权平均，这里是市场价值。\n",
       "整个组合的市场价值是 50 million，A, B, C 债券分别占 10%，40%， 50%。\n",
       "则组合的修正久期 = 4×10% + 8×40% + 12×50% = 9.6\n",
       "组合的修正凸度 = 23×10% + 77×40% + 168×50% = 117.1\n",
       "现在收益率下降 100 个基点，即 0.01，对于组合价格变化百分比的影响为：\n",
       "\n",
       "$$\n",
       "\\Delta \\%P \\approx -ModDur \\times \\Delta y + \\frac{1}{2} \\times Convexity \\times (\\Delta y)^2\n",
       "$$\n",
       "\n",
       "$$\n",
       "= - 9.6 \\times ( - 0.01 ) + \\frac{1}{2} \\times 117.1 \\times ( - 0.01 )^2 = 10.2\\%\n",
       "$$\n",
       "\n",
       "因此， 选项 A 正确。"
      ],
      "text/plain": [
       "<IPython.core.display.Markdown object>"
      ]
     },
     "metadata": {},
     "output_type": "display_data"
    },
    {
     "name": "stdout",
     "output_type": "stream",
     "text": [
      "---------------------------------------------------\n",
      "2321\n"
     ]
    },
    {
     "data": {
      "text/markdown": [
       "本题考点为DVDZ和有效久期的区别。\n",
       "\n",
       "DVDZ表示债券收益率发生一个基点的变动，导致债券的价格变化。而有效久期衡量的是债券价格变化的百分比。这是他们之间最⼤的区别。\n",
       "对于Statement I，当组合的头寸增加，组合的DVDZ衡量的是美元久期，所以是和组合头寸成比例增加的。但是有效久期因为衡量的是债券价格变化的百分比，他并不随看组合头寸变化。所以，该Statement表述错误，符合题意。\n",
       "对于Statement II，债券投资者通常对国债更感兴趣。由于一个大的百分比变化可以很容易地提⾼债券投资者，有效久期将比DV01更有用。所以，该Statement表述错误，符合题意\n",
       "对于Statement III，投资者要对冲的组合DVDZ=$250$，组合的对冲工具是一个5年期债券。$100万$市值的该证券的DVDZ是$150$。如果要对冲组合的DVDZ，对冲需要债券的份数为：\n",
       "\n",
       "$$\n",
       "\\frac{250}{150} \\times 1million,\n",
       "$$\n",
       "\n",
       "则用于对冲的债券的价值为\n",
       "\n",
       "$$\n",
       "\\frac{250}{150} \\times 1million.\n",
       "$$\n",
       "\n",
       "所以，该Statement表述错误，符合题意。\n",
       "综上所述，所有的Statement全都表述错误，符合题意。因此，正确选项为D。"
      ],
      "text/plain": [
       "<IPython.core.display.Markdown object>"
      ]
     },
     "metadata": {},
     "output_type": "display_data"
    },
    {
     "name": "stdout",
     "output_type": "stream",
     "text": [
      "---------------------------------------------------\n",
      "2320\n"
     ]
    },
    {
     "data": {
      "text/markdown": [
       "本题考点为利用债券久期与影响因素之间的关系对债券久期排序。\n",
       "\n",
       "1）9年期的债券（债券 5）久期最长因为其到期时间在所有可比债券中最晚。\n",
       "\n",
       "2）债券1和债券2只有付息频率不同，可放在一起比较。债券2半年付息，比债券1付息频率更高，因而久期更短。\n",
       "\n",
       "3）债券3和债券4只有收益率不同，可放在一起比较。由于债券4收益率更低，远期现金流的现值比重更高，因而久期更长。\n",
       "\n",
       "4）债券3只是单一优惠券，久期等于其到期时间，因此在所有可比债券中有最长的久期。因此，债券久期从短到长排序依次为 5-2-1-4-3。选项A正确。\n",
       "\n",
       "债券久期与影响因素之间的关系可总结如下表：\n",
       "\n",
       "\\[\n",
       "\\begin{array}{|c|c|c|c|c|}\n",
       "\\hline\n",
       "& \\text{YTM（持有至到期收益率）} & \\text{Coupon Rate（票息率）} & \\text{Coupon frequency（付息频率）} & \\text{T（到期时长）} \\\n",
       "\\hline\n",
       "\\text{Duration（久期）} & \\text{负相关} & \\text{负相关} & \\text{负相关} & \\text{正相关} \\\n",
       "\\hline\n",
       "\\end{array}\n",
       "\\]\n",
       "\n"
      ],
      "text/plain": [
       "<IPython.core.display.Markdown object>"
      ]
     },
     "metadata": {},
     "output_type": "display_data"
    },
    {
     "name": "stdout",
     "output_type": "stream",
     "text": [
      "---------------------------------------------------\n",
      "2319\n"
     ]
    },
    {
     "data": {
      "text/markdown": [
       "本题考点为判断债券久期与影响因素之间的关系。\n",
       "债券久期与影响因素之间的关系可总结如下表：\n",
       "\n",
       "\\[\n",
       "\\begin{array}{|c|c|c|c|}\n",
       "\\hline\n",
       "& \\text{YTM（持有至到期收益率）} & \\text{Coupon Rate（票息率）} & \\text{Coupon frequency（付息频率）} \\\n",
       "\\hline\n",
       "\\text{Duration（久期）} & \\text{负相关} & \\text{负相关} & \\text{负相关} \\\n",
       "\\hline\n",
       "\\end{array}\n",
       "\\]\n",
       "\n",
       "因此，只有III正确，选项B正确。"
      ],
      "text/plain": [
       "<IPython.core.display.Markdown object>"
      ]
     },
     "metadata": {},
     "output_type": "display_data"
    },
    {
     "name": "stdout",
     "output_type": "stream",
     "text": [
      "---------------------------------------------------\n",
      "2318\n"
     ]
    },
    {
     "data": {
      "text/markdown": [
       "本题考为麦考利久期、修正久期、美元久期和DV01之间的转换。\n",
       "\n",
       "$$\n",
       "\\begin{array}{|c|c|c|c|c|c|c|c|}\n",
       "\\hline\n",
       " & a & b & c=b & d=\\frac{c}{1+\\frac{6\\%}{2}} & e=d \\times a & f=\\frac{e}{10,000} \\\n",
       "\\hline\n",
       "\\text{Bond} & \\text{Value (USD)} & \\text{Maturity} & \\text{Mac. Dur.} & \\text{Mod. Dur} & \\text{D. Dur} & \\text{DV01} \\\n",
       "\\hline\n",
       "\\text{Bond A} & 2,000,000 & 5 & 5 & 4.8544 & 9,708,800 & 970.88 \\\n",
       "\\hline\n",
       "\\text{Bond B} & 3,000,000 & 10 & 10 & 9.7087 & 29,126,100 & 2,912.61 \\\n",
       "\\hline\n",
       "\\text{Portfolio} & 5,000,000 & & & & & 3,883.49 \\\n",
       "\\hline\n",
       "\\end{array}\n",
       "$$\n",
       "\n",
       "Bond A 和 Bond B 是零息债券，两者的麦考利久期等于它们的到期时间（Mac. Dur = Maturity）。\n",
       "\n",
       "Bond A 和 Bond B 每半年复利一次，两者的修正久期可由麦考利久期和期间利率来计算。（Mod. Dur = Mac. Dur / (1 + 3%)）。\n",
       "\n",
       "美元久期等于修正久期与市场价值的乘积。（D. Dur = Mod. Dur \\times Value）。\n",
       "\n",
       "DV01 等于美元久期除以 10,000。（DV01 = D. Dur / 10,000）。\n",
       "\n",
       "组合的 DV01 等于 Bond A 和 Bond B 的 DV01 相加，即 970.88 + 2,912.61 = 3,883.49。\n",
       "\n",
       "因此，选项 D 正确。"
      ],
      "text/plain": [
       "<IPython.core.display.Markdown object>"
      ]
     },
     "metadata": {},
     "output_type": "display_data"
    },
    {
     "name": "stdout",
     "output_type": "stream",
     "text": [
      "---------------------------------------------------\n",
      "2317\n"
     ]
    },
    {
     "data": {
      "text/markdown": [
       "本题考点为麦考利久期的计算以及麦考利久期和修正久期的换算。\n",
       "\n",
       "\\[\n",
       "\\begin{array}{|c|c|c|c|c|}\n",
       "\\hline\n",
       "T & \\text{Cash flow} & PV & \\omega & \\omega T \\\n",
       "\\hline\n",
       "1 & 50 & 50 / 1.06 = 47.1698 & 47.1698 / 981.6661 = 4.8051\\% & 0.0481 \\\n",
       "\\hline\n",
       "2 & 1050 & 1050 / 1.06^2 = 934.4963 & 934.4963 / 981.6661 = 95.1949\\% & 1.9039 \\\n",
       "\\hline\n",
       "\\text{Total} & & 981.6661 & & \\\n",
       "\\hline\n",
       "\\end{array}\n",
       "\\]\n",
       "\n",
       "\\[\n",
       "\\text{Mac. Dur} = 1.9520\n",
       "\\]\n",
       "\n",
       "$$\n",
       "\\text{Mod. Dur} = \\frac{\\text{Mac. Dur}}{1 + \\frac{r}{m}} = \\frac{1.9520}{1.06} = 1.8415\n",
       "$$\n",
       "\n",
       "因此，选项 A 正确。"
      ],
      "text/plain": [
       "<IPython.core.display.Markdown object>"
      ]
     },
     "metadata": {},
     "output_type": "display_data"
    },
    {
     "name": "stdout",
     "output_type": "stream",
     "text": [
      "---------------------------------------------------\n",
      "2316\n"
     ]
    },
    {
     "data": {
      "text/markdown": [
       "本题考点为债券收益的拆解。\n",
       "\n",
       "$$\n",
       "T = 0: \\quad P_0 = \\frac{6}{(1+4.1\\%)} + \\frac{6}{(1+4.1\\%)(1+4.8\\%)} + \\frac{100+6}{(1+4.1\\%)(1+4.8\\%)(1+5.7\\%)} = 103.1853\n",
       "$$\n",
       "\n",
       "$$\n",
       "T = 1: \\quad P_1 = \\frac{6}{(1+4.8\\%)} + \\frac{100+6}{(1+4.8\\%)(1+5.7\\%)} = 101.4159\n",
       "$$\n",
       "\n",
       "价格变动的部分 = 101.4259 - 103.1853 = -1.7694\n",
       "\n",
       "Cash carry = 每一期的票息 = 6\n",
       "\n",
       "Carry \\, - \\, Roll \\, down \\, = -1.7694 + 6 = 4.2306\n",
       "\n",
       "因此， 选项 C 正确。"
      ],
      "text/plain": [
       "<IPython.core.display.Markdown object>"
      ]
     },
     "metadata": {},
     "output_type": "display_data"
    },
    {
     "name": "stdout",
     "output_type": "stream",
     "text": [
      "---------------------------------------------------\n",
      "2315\n"
     ]
    },
    {
     "data": {
      "text/markdown": [
       "本题的考点为票息效应。根据票息效应，相同期限但不同票息的公平定价的债券的YTM是不同的\n",
       "。当即期利率曲线向上倾斜时，YTM与票息率呈现负相关。债券A的票息率高于债券B，债券A的YTM更小，债券\n",
       "B的YTM更大。因此，选项B正确。"
      ],
      "text/plain": [
       "<IPython.core.display.Markdown object>"
      ]
     },
     "metadata": {},
     "output_type": "display_data"
    },
    {
     "name": "stdout",
     "output_type": "stream",
     "text": [
      "---------------------------------------------------\n",
      "2314\n"
     ]
    },
    {
     "data": {
      "text/markdown": [
       "本题的考点为一价定律思想下利用复制原理求债券价格的知识点。\n",
       "\n",
       "$$\n",
       "\\begin{array}{c|c}\n",
       "5 & 105 \\\n",
       "\\downarrow & \\\n",
       "4 & 104 \\\n",
       "\\end{array}\n",
       "$$\n",
       "\n",
       "解题思路是用 bond A 和 bond B 来复制 1 年期票息 8%的债券。为了复制 1 年期票息 8%的债券的现金流，通过求解一个方程组来确定权重因子 $w_1$ 和 $w_2$，分别对应于 bond A 和 bond B 的持有比例。\n",
       "方程组如下：\n",
       "\n",
       "$$\n",
       "100 \\times w_1 + 105 \\times w_2 = 104\n",
       "$$\n",
       "\n",
       "$$\n",
       "5 \\times w_1 = 4\n",
       "$$\n",
       "\n",
       "求解方程组可得：$w_1 = 0.2$ 和 $w_2 = 0.8$。因此，根据一价定律的思想，1 年期票息 8%的债券的价格应为：\n",
       "\n",
       "$$\n",
       "0.2 \\times 96.12 + 0.8 \\times 105.2 = 103.384\n",
       "$$\n",
       "\n",
       "否则会存在套利机会。\n",
       "因此，选项 D 正确。"
      ],
      "text/plain": [
       "<IPython.core.display.Markdown object>"
      ]
     },
     "metadata": {},
     "output_type": "display_data"
    },
    {
     "name": "stdout",
     "output_type": "stream",
     "text": [
      "---------------------------------------------------\n",
      "2313\n"
     ]
    },
    {
     "data": {
      "text/markdown": [
       "本题的考点为对利率期限理论和预期理论的理解。如果预期理论是正确的，那么市场中的远期\n",
       "利率应当等于市场对未来即期利率的预期值，题目中没有提及到预期的问题，无法判断长期利率与短期利率\n",
       "的大小关系。因此，选项A和D与题意无关。如果流动性偏好理论是正确的，在流动性偏好理论下，贷款人偏\n",
       "好短期的产品，借款人偏好长期的产品。借贷双方难以达成交易。做市商为了撮合两方的需求，便调高长期\n",
       "利率，调低短期利率，这样贷款人便有动力选择更加长期的产品，而借款人也有动力选择期限更短的产品\n",
       "，因而最终利率期限结构成为向上倾斜的形状，即短期借款利率低于长期借款利率。所以，政府的借款从长\n",
       "期变为短期，成本将会下降。因此，选项C错误，选项B正确。"
      ],
      "text/plain": [
       "<IPython.core.display.Markdown object>"
      ]
     },
     "metadata": {},
     "output_type": "display_data"
    },
    {
     "name": "stdout",
     "output_type": "stream",
     "text": [
      "---------------------------------------------------\n",
      "2312\n"
     ]
    },
    {
     "data": {
      "text/markdown": [
       "本题的考点为LIBOR、利率期限结构理论和回归面值效应（pull-to-par effect）。Statement\n",
       "1：LIBOR是一个报价利率，可以被操纵，是一个unsecured的利率。statement 1是错误的。Statement\n",
       "2：LIBOR 是一个报价利率，可以被操纵。美国提议采用repo-based secured overnight financing\n",
       "rate，也就是隔夜回购利率（SOFR），而英国和欧元区则提议分别采用英镑隔夜指数平均利率（SONIA）和欧\n",
       "元隔夜指数平均利率（EONIA）。Statement 2 是正确的。Statement 3：预期理论认为，利率期限结构反映\n",
       "了市场对未来利率的预期，远期利率应等于未来即期利率的预期值。Statement 3是错误的。Statement\n",
       "4：回归面值效应（pull-to-par effect）认为，如果没有违约且收益率保持不变的情况下，随着时间不断趋\n",
       "近到期日，债券价格不断趋近面值。Statement 4 是正确的。因此，选项A正确。"
      ],
      "text/plain": [
       "<IPython.core.display.Markdown object>"
      ]
     },
     "metadata": {},
     "output_type": "display_data"
    },
    {
     "name": "stdout",
     "output_type": "stream",
     "text": [
      "---------------------------------------------------\n",
      "2311\n"
     ]
    },
    {
     "data": {
      "text/markdown": [
       "本题考查为均匀利率和即期期利率之间的换算。\n",
       "首先，从表格数据可以看出，利率曲线向上倾斜。当利率曲线向上倾斜时，即期利率曲线在平价收益曲线之上，因此排除A和D选项。\n",
       "\n",
       "$$\n",
       "\\frac{3.2/2}{(1+\\frac{2.25\\%}{2})^1}+\\frac{3.2/2}{(1+\\frac{2.6527\\%}{2})^2}+\\frac{100+3.2/2}{(1+\\frac{Z_{15}}{2})^3}=100\n",
       "$$\n",
       "\n",
       "$$\n",
       "Z_{15}=3.2110\\%\n",
       "$$\n",
       "\n",
       "因此，选项B正确。"
      ],
      "text/plain": [
       "<IPython.core.display.Markdown object>"
      ]
     },
     "metadata": {},
     "output_type": "display_data"
    },
    {
     "name": "stdout",
     "output_type": "stream",
     "text": [
      "---------------------------------------------------\n",
      "2310\n"
     ]
    },
    {
     "data": {
      "text/markdown": [
       "本题的考点为通过远期利率计算即期利率。\n",
       "\n",
       "$$\n",
       "Z_{1.5}\n",
       "$$\n",
       "\n",
       "通过三个远期利率的相乘，就可以得到即期利率。\n",
       "\n",
       "$$\n",
       "\\left( 1 + \\frac{f_{0-0.5}}{2} \\right) \\left( 1 + \\frac{f_{0.5-1}}{2} \\right) \\left( 1 + \\frac{f_{1-1.5}}{2} \\right) = \\left( 1 + \\frac{z_{1.5}}{2} \\right)^3 \\rightarrow z_{1.5} = 3.73\\%\n",
       "$$\n",
       "\n",
       "因此，选项 A 正确。"
      ],
      "text/plain": [
       "<IPython.core.display.Markdown object>"
      ]
     },
     "metadata": {},
     "output_type": "display_data"
    },
    {
     "name": "stdout",
     "output_type": "stream",
     "text": [
      "---------------------------------------------------\n",
      "2309\n"
     ]
    },
    {
     "data": {
      "text/markdown": [
       "本题的考点为利用脱靴法求期利率。\n",
       "\n",
       "$$\n",
       "\\frac{100}{(1+\\frac{z_{0.5}}{2})} = 98.9 \\rightarrow z_{0.5} = 2.2245\\%\n",
       "$$\n",
       "\n",
       "$$\n",
       "\\frac{100}{(1+\\frac{z_{1}}{2})^2} = 96.5 \\rightarrow z_{1} = 3.5946\\%\n",
       "$$\n",
       "\n",
       "$$\n",
       "\\frac{2.75}{(1+\\frac{2.2245\\%}{2})} + \\frac{2.75}{(1+\\frac{3.5946\\%}{2})^2} + \\frac{102.75}{(1+\\frac{z_{1.5}}{2})^3} = 100 \\rightarrow z_{1.5} = 5.5668\\%\n",
       "$$\n",
       "\n",
       "因此，选项 C 正确。"
      ],
      "text/plain": [
       "<IPython.core.display.Markdown object>"
      ]
     },
     "metadata": {},
     "output_type": "display_data"
    },
    {
     "name": "stdout",
     "output_type": "stream",
     "text": [
      "---------------------------------------------------\n",
      "2308\n"
     ]
    },
    {
     "data": {
      "text/markdown": [
       "本题的考点为通过债券现金流折现现值的方法计算折现因子。\n",
       "\n",
       "根据前两种债券的现金流结构，有两个方程：\n",
       "\n",
       "$$\n",
       "d(0.5) \\times \\left(100 + \\frac{5.7\\%}{2} \\times 100\\right) = 101.426\n",
       "$$\n",
       "\n",
       "$$\n",
       "d(0.5) \\times \\frac{15\\%}{2} \\times 100 + d(1) \\times \\left(100 + \\frac{15\\%}{2} \\times 100\\right) = 102.642\n",
       "$$\n",
       "\n",
       "通过求解，可以得到 $d(0.5)$ 和 $d(1)$：\n",
       "\n",
       "$d(0.5) = 0.986155$\n",
       "\n",
       "$d(1) = 0.886008$\n",
       "\n",
       "因此，选项 A 正确。"
      ],
      "text/plain": [
       "<IPython.core.display.Markdown object>"
      ]
     },
     "metadata": {},
     "output_type": "display_data"
    },
    {
     "name": "stdout",
     "output_type": "stream",
     "text": [
      "---------------------------------------------------\n",
      "2307\n"
     ]
    },
    {
     "data": {
      "text/markdown": [
       "本题的考点为利率之间的等价转换。\n",
       "\n",
       "$$\n",
       "\\text{Equivalent annual rate for product A} = (1 + \\frac{8\\%}{12})^{12} - 1 = 8.30\\%\n",
       "$$\n",
       "\n",
       "$$\n",
       "\\text{Equivalent annual rate for product B} = (1 + \\frac{9\\%}{2})^{2} - 1 = 9.20\\%\n",
       "$$\n",
       "\n",
       "因此，选项 D 正确。"
      ],
      "text/plain": [
       "<IPython.core.display.Markdown object>"
      ]
     },
     "metadata": {},
     "output_type": "display_data"
    },
    {
     "name": "stdout",
     "output_type": "stream",
     "text": [
      "---------------------------------------------------\n",
      "2306\n"
     ]
    },
    {
     "data": {
      "text/markdown": [
       "该题的考点为有效年利率和年金终值的计算。\n",
       "由于是每年年末的时候才会存一笔年金，因此需要把按月复利的年化利率转化成一年复利一次的年化利率，即实际利率。\n",
       "\n",
       "实际年利率可由下式计算：\n",
       "\n",
       "计算器的按法：$[1.0025]^{\\times}[12][=][-][1][=]$得到3.0416%。\n",
       "\n",
       "实际年利率 $R_{annually}$ = 3.04%，可根据以下计算器的方法得到的结果：\n",
       "\n",
       "$$\n",
       "N = 4, I/Y = 3.04, PV = 0, PMT = -120,000, CPTFV = 502,335\n",
       "$$\n",
       "\n",
       "因此，选项 B 正确。"
      ],
      "text/plain": [
       "<IPython.core.display.Markdown object>"
      ]
     },
     "metadata": {},
     "output_type": "display_data"
    },
    {
     "name": "stdout",
     "output_type": "stream",
     "text": [
      "---------------------------------------------------\n",
      "2305\n"
     ]
    },
    {
     "data": {
      "text/markdown": [
       "本题的考点为一价定律思.想下利用复制原理求债券价格的知识点。\n",
       "\n",
       "$$\n",
       "\\begin{array}{cccc}\n",
       "& 100 & \\\n",
       "& \\downarrow & \\\n",
       "5 & & 105 \\\n",
       "& \\downarrow & \\\n",
       "4 & & 104 \\\n",
       "\\end{array}\n",
       "$$\n",
       "\n",
       "解题思路是用 bond A 和 bond B 来复制 1 年期票息 8%的债券。为了复制 1 年期票息 8%的债券的现金流，通过求解一个方程组来确定权重因子 $w_1$ 和 $w_2$，分别对应于 bond A 和 bond B 的持有比例。\n",
       "方程组如下：\n",
       "\n",
       "$$\n",
       "100 \\times w_1 + 105 \\times w_2 = 104\n",
       "$$\n",
       "\n",
       "$$\n",
       "5 \\times w_1 = 4\n",
       "$$\n",
       "\n",
       "求解方程组可得：$w_1 = 0.2$ 和 $w_2 = 0.8$。因此，根据一价定律的思想，1 年期票息 8%的债券的价格应为：\n",
       "\n",
       "$$\n",
       "0.2 \\times 96.12 + 0.8 \\times 105.2 = 103.384\n",
       "$$\n",
       "\n",
       "否则会存在套利机会。\n",
       "因此，选项 D 正确。"
      ],
      "text/plain": [
       "<IPython.core.display.Markdown object>"
      ]
     },
     "metadata": {},
     "output_type": "display_data"
    },
    {
     "name": "stdout",
     "output_type": "stream",
     "text": [
      "---------------------------------------------------\n",
      "2304\n"
     ]
    },
    {
     "data": {
      "text/markdown": [
       "本题的考点为不同抵押类型债券的性质辨析。Statement 1: collateral trust bonds （抵押\n",
       "信托债券）是有金融资产作为抵押品的债券，当发生违约时，可以对抵押品进行清算从而获得违约的补偿。\n",
       "与 collateral trust bonds（担保信托债券）不同，Debenture bonds（无抵押债券）是没有抵押品的，因\n",
       "此面临的风险是高于抵押信托债券的。Statement 1是错误的。Statement 2: guaranteed bonds（担保债券\n",
       "）的担保效果和债券发行人与担保人之间的财务相关性息息相关，因为如果债券发行人和担保人之间的财务\n",
       "相关性比较大，那么发行人发生违约的时候，担保人的财务状况也表现很差，那么有可能这个时候担保人也\n",
       "没有能力履行担保职责从而偿付款项。反之，相关性越小担保效果越好。不能简单一味地认为提供担保的第\n",
       "三方就有能力履行担保职责。Statement 2是错误的。Statement 3: 债券契约中会有三类条款，规定发行人\n",
       "必须做到的积极条款（positive covenants），禁止某些行为的消极条款（negative covenants），还有维\n",
       "持财务指标的财务条款（financial covenants），一个公司信用质量越好，契约中所含的条款就会越少。\n",
       "Statement 3 是正确的。Statement 4: Call provisions（赎回条款）允许发行人在一定时间以一定价格赎\n",
       "回债券，这对发行人有利；而put provisions（回售条款）则让债券持有人有权在特定日期以预先确定的价\n",
       "格将债券卖回给发行人，这对债券持有人有利。Statement 4是正确的。因此，选项B正确。"
      ],
      "text/plain": [
       "<IPython.core.display.Markdown object>"
      ]
     },
     "metadata": {},
     "output_type": "display_data"
    },
    {
     "name": "stdout",
     "output_type": "stream",
     "text": [
      "---------------------------------------------------\n"
     ]
    }
   ],
   "source": [
    "for i in range(len(data)):\n",
    "    print(data.iloc[i]['ID'])\n",
    "    display(Markdown(data.iloc[i]['Explanation']))\n",
    "    print(\"---------------------------------------------------\")"
   ]
  },
  {
   "cell_type": "code",
   "execution_count": 69,
   "metadata": {},
   "outputs": [
    {
     "data": {
      "text/markdown": [
       "本题考点为GARCH (1,1)模型的综合运用。\n",
       "\n",
       "首先，计算在 \\( t-1 \\) 时刻的指数回报:\n",
       "\n",
       "$$\n",
       "\\mu_{t-1} = \\frac{6400 - 6480}{6480} = -0.0123\n",
       "$$\n",
       "\n",
       "其次，计算在 \\( t \\) 时刻的更新后的波动率:\n",
       "\n",
       "$$\n",
       "\\sigma_t^2 = 0.000014 + 0.07 \\times (-0.0123)^2 + 0.85 \\times 0.015^2 = 0.00021584\n",
       "$$\n",
       "\n",
       "$$\n",
       "\\sigma_t = \\sqrt{\\sigma_t^2} = \\sqrt{0.00021584} = 0.014692\n",
       "$$\n",
       "\n",
       "由于回报的均值为0%，因此下一个交易日的指数期望值和当前指数的数值相等，即6400。\n",
       "并且，在使用一个标准差后可以计算出区间的上限和下限:\n",
       "\n",
       "$$\n",
       "6400 - 6400 \\times 0.0147 = 6306\n",
       "$$\n",
       "\n",
       "$$\n",
       "6400 + 6400 \\times 0.0147 = 6494\n",
       "$$\n",
       "\n",
       "因此，依据均值构建的一个标准差区间为\\[6,306, 6,494\\]。最接近的选项为 C。\n",
       "\n",
       "\n"
      ],
      "text/plain": [
       "<IPython.core.display.Markdown object>"
      ]
     },
     "metadata": {},
     "output_type": "display_data"
    }
   ],
   "source": [
    "with open('/Volumes/Jennie/Reasoning/FinReasoning/dataset/a.txt', 'r') as file:\n",
    "    content = file.read()\n",
    "display(Markdown(content))"
   ]
  },
  {
   "cell_type": "code",
   "execution_count": 73,
   "metadata": {},
   "outputs": [],
   "source": [
    "from dotenv import load_dotenv\n",
    "import os\n",
    "from langchain_core.messages import HumanMessage, SystemMessage\n",
    "from langchain_openai import ChatOpenAI\n",
    "import base64\n",
    "import re\n",
    "from IPython.display import display, Markdown,Image\n",
    "# 加载 .env 文件\n",
    "load_dotenv()\n",
    "\n",
    "# 获取环境变量\n",
    "langchain_tracing = os.getenv(\"LANGCHAIN_TRACING_V2\")\n",
    "langchain_endpoint = os.getenv(\"LANGCHAIN_ENDPOINT\")\n",
    "langchain_api_key = os.getenv(\"LANGCHAIN_API_KEY\")\n",
    "langchain_project = os.getenv(\"LANGCHAIN_PROJECT\")\n",
    "\n",
    "api_key=os.getenv(\"API_KEY\")\n",
    "base_url=os.getenv(\"BASE_URL\")\n",
    "deepseek_api_key=os.getenv(\"DEEPSEEK_API_KEY\")\n",
    "deepseek_base_url=os.getenv(\"DEEPSEEK_BASE_URL\")"
   ]
  },
  {
   "cell_type": "code",
   "execution_count": 74,
   "metadata": {},
   "outputs": [],
   "source": [
    "gptmodel = ChatOpenAI(model=\"gpt-4o\", api_key=os.getenv(\"API_KEY\"), base_url=os.getenv(\"BASE_URL\"))"
   ]
  },
  {
   "cell_type": "code",
   "execution_count": 76,
   "metadata": {},
   "outputs": [
    {
     "data": {
      "text/plain": [
       "ChatPromptValue(messages=[SystemMessage(content='You are a helpful financial expert. You are supposed to translate the following text into Enaglish but do not change format and layout.', additional_kwargs={}, response_metadata={}), HumanMessage(content='1109    This question focuses on the principles of str...\\n1110    This question focuses on differentiating betwe...\\n1111    This question focuses on measuring operational...\\n1112    This question focuses on sovereign credit risk...\\n1113    This question focuses on calculating default p...\\n                              ...                        \\n1168    本题的考点为通过债券现金流折现现值的方法计算折现因子。\\\\n\\\\n根据前两种债券的现金流结构，有...\\n1169    本题的考点为利率之间的等价转换。\\\\n\\\\n$$\\\\n\\\\text{Equivalent annua...\\n1170    该题的考点为有效年利率和年金终值的计算。\\\\n由于是每年年末的时候才会存一笔年金，因此需要把按...\\n1171    本题的考点为一价定律思.想下利用复制原理求债券价格的知识点。\\\\n\\\\n$$\\\\n\\\\begin{a...\\n1172    本题的考点为不同抵押类型债券的性质辨析。Statement 1: collateral tr...\\nName: Explanation, Length: 64, dtype: object', additional_kwargs={}, response_metadata={})])"
      ]
     },
     "execution_count": 76,
     "metadata": {},
     "output_type": "execute_result"
    }
   ],
   "source": [
    "from langchain_core.prompts import ChatPromptTemplate\n",
    "\n",
    "prompt_template = ChatPromptTemplate([\n",
    "    (\"system\", \"You are a helpful financial expert. You are supposed to translate the following text into Enaglish but do not change format and layout.\"),\n",
    "    (\"user\", \"{text}\")\n",
    "])\n",
    "\n",
    "prompt_template.invoke({\"text\": data['Explanation']})"
   ]
  },
  {
   "cell_type": "code",
   "execution_count": null,
   "metadata": {},
   "outputs": [],
   "source": [
    "for i in range(len(data)):\n",
    "    print(data.iloc[i]['ID'])\n",
    "    display(Markdown(data.iloc[i]['Explanation']))\n",
    "    print(\"---------------------------------------------------\")\n",
    "    response = gptmodel.ask(data.iloc[i]['Explanation'])\n",
    "    print(response)\n",
    "    print(\"---------------------------------------------------\")"
   ]
  },
  {
   "cell_type": "code",
   "execution_count": null,
   "metadata": {},
   "outputs": [],
   "source": []
  },
  {
   "cell_type": "code",
   "execution_count": null,
   "metadata": {},
   "outputs": [],
   "source": []
  }
 ],
 "metadata": {
  "kernelspec": {
   "display_name": ".venv",
   "language": "python",
   "name": "python3"
  },
  "language_info": {
   "codemirror_mode": {
    "name": "ipython",
    "version": 3
   },
   "file_extension": ".py",
   "mimetype": "text/x-python",
   "name": "python",
   "nbconvert_exporter": "python",
   "pygments_lexer": "ipython3",
   "version": "3.12.5"
  }
 },
 "nbformat": 4,
 "nbformat_minor": 2
}
