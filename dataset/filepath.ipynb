{
 "cells": [
  {
   "cell_type": "code",
   "execution_count": 8,
   "metadata": {},
   "outputs": [
    {
     "name": "stdout",
     "output_type": "stream",
     "text": [
      "文件扩展名已修改。\n"
     ]
    }
   ],
   "source": [
    "import os\n",
    "\n",
    "# 指定目录路径\n",
    "directory = \"/Volumes/Jennie/Reasoning/FinReasoning/dataset/images/level1_zu_he_images\"\n",
    "\n",
    "# 遍历目录下的所有文件\n",
    "for filename in os.listdir(directory):\n",
    "    # 检查文件扩展名是否为 .PNG\n",
    "    if filename.endswith(\".PNG\"):\n",
    "        # 构建旧文件路径和新文件路径\n",
    "        old_file = os.path.join(directory, filename)\n",
    "        new_file = os.path.join(directory, filename[:-4] + \".png\")\n",
    "        \n",
    "        # 重命名文件\n",
    "        os.rename(old_file, new_file)\n",
    "\n",
    "print(\"文件扩展名已修改。\")"
   ]
  }
 ],
 "metadata": {
  "kernelspec": {
   "display_name": ".venv",
   "language": "python",
   "name": "python3"
  },
  "language_info": {
   "codemirror_mode": {
    "name": "ipython",
    "version": 3
   },
   "file_extension": ".py",
   "mimetype": "text/x-python",
   "name": "python",
   "nbconvert_exporter": "python",
   "pygments_lexer": "ipython3",
   "version": "3.12.5"
  }
 },
 "nbformat": 4,
 "nbformat_minor": 2
}
