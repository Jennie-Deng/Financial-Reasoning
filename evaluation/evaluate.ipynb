{
 "cells": [
  {
   "cell_type": "code",
   "execution_count": 9,
   "metadata": {},
   "outputs": [],
   "source": [
    "def evaluate(eva_file_path):\n",
    "    data=json.loads(Path(eva_file_path).read_text())\n",
    "    a=0\n",
    "    for question in data:\n",
    "        if question[\"Model Answer\"] == question[\"Answer\"]:\n",
    "            a+=1\n",
    "        else:\n",
    "            a+=0\n",
    "    accuracy=(a/len(data)*100).__round__(2)\n",
    "    return accuracy"
   ]
  },
  {
   "cell_type": "markdown",
   "metadata": {},
   "source": [
    "## 增加evaluation metircs"
   ]
  },
  {
   "cell_type": "markdown",
   "metadata": {},
   "source": [
    "## caption metrics"
   ]
  },
  {
   "cell_type": "markdown",
   "metadata": {},
   "source": []
  },
  {
   "cell_type": "markdown",
   "metadata": {},
   "source": [
    "Vision"
   ]
  },
  {
   "cell_type": "code",
   "execution_count": 10,
   "metadata": {},
   "outputs": [],
   "source": [
    "import json\n",
    "from pathlib import Path\n",
    "from pprint import pprint\n",
    "\n",
    "ClaudeAccuracy=evaluate('/Volumes/Jennie/Reasoning/FinMath/output/Claude-3-5_output.json')\n",
    "ClaudeRAGAccuracy=evaluate(\"/Volumes/Jennie/Reasoning/FinMath/output/Claude-3-5_rag_output.json\")\n",
    "Gemini_ProAccuracy=evaluate(\"/Volumes/Jennie/Reasoning/FinMath/output/Gemini_Pro_output.json\")\n",
    "Gemini_ProRAGAccuracy=evaluate(\"/Volumes/Jennie/Reasoning/FinMath/output/Gemini_Pro_rag_output.json\")\n",
    "gpt_4oAccuracy=evaluate(\"/Volumes/Jennie/Reasoning/FinMath/output/gpt_4o_output.json\")\n",
    "gpt_4oRAGAccuracy=evaluate(\"/Volumes/Jennie/Reasoning/FinMath/output/gpt_4o_rag_output.json\")\n"
   ]
  },
  {
   "cell_type": "code",
   "execution_count": null,
   "metadata": {},
   "outputs": [],
   "source": [
    "import pandas as pd\n",
    "\n",
    "# 创建一个包含模型名称和准确率的字典\n",
    "data = {\n",
    "    'Model': ['Claude', 'ClaudeRAG', 'Gemini_Pro', 'Gemini_ProRAG', 'gpt_4o', 'gpt_4oRAG'],\n",
    "    'Accuracy%': [ClaudeAccuracy, ClaudeRAGAccuracy, Gemini_ProAccuracy, Gemini_ProRAGAccuracy, gpt_4oAccuracy, gpt_4oRAGAccuracy]\n",
    "}\n",
    "\n",
    "# 创建 DataFrame\n",
    "df = pd.DataFrame(data)\n",
    "df"
   ]
  },
  {
   "cell_type": "code",
   "execution_count": 15,
   "metadata": {},
   "outputs": [],
   "source": [
    "def evaluate(data):\n",
    "    a=0\n",
    "    for question in data:\n",
    "        if question[\"Model Answer\"] == question[\"Answer\"]:\n",
    "            a+=1\n",
    "        else:\n",
    "            a+=0\n",
    "    accuracy=(a/len(data)*100).__round__(2)\n",
    "    return accuracy"
   ]
  }
 ],
 "metadata": {
  "kernelspec": {
   "display_name": ".venv",
   "language": "python",
   "name": "python3"
  },
  "language_info": {
   "codemirror_mode": {
    "name": "ipython",
    "version": 3
   },
   "file_extension": ".py",
   "mimetype": "text/x-python",
   "name": "python",
   "nbconvert_exporter": "python",
   "pygments_lexer": "ipython3",
   "version": "3.12.5"
  }
 },
 "nbformat": 4,
 "nbformat_minor": 2
}
