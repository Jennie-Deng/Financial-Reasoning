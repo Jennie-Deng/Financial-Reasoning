{
 "cells": [
  {
   "cell_type": "code",
   "execution_count": 1,
   "metadata": {},
   "outputs": [],
   "source": [
    "def evaluate(eva_file_path):\n",
    "    data=json.loads(Path(eva_file_path).read_text())\n",
    "    a=0\n",
    "    for question in data:\n",
    "        if question[\"Model Answer\"] == question[\"Answer\"]:\n",
    "            a+=1\n",
    "        else:\n",
    "            a+=0\n",
    "    accuracy=(a/len(data)*100).__round__(2)\n",
    "    return accuracy"
   ]
  },
  {
   "cell_type": "markdown",
   "metadata": {},
   "source": [
    "## 增加evaluation metircs"
   ]
  },
  {
   "cell_type": "markdown",
   "metadata": {},
   "source": [
    "## caption metrics"
   ]
  },
  {
   "cell_type": "markdown",
   "metadata": {},
   "source": []
  },
  {
   "cell_type": "markdown",
   "metadata": {},
   "source": [
    "Vision"
   ]
  },
  {
   "cell_type": "code",
   "execution_count": 6,
   "metadata": {},
   "outputs": [],
   "source": [
    "import json\n",
    "from pathlib import Path\n",
    "from pprint import pprint\n",
    "\n",
    "# ClaudeAccuracy=evaluate('/Volumes/Jennie/Reasoning/FinReasoning/output/Claude-3-5_output.json')\n",
    "# ClaudeRAGAccuracy=evaluate(\"/Volumes/Jennie/Reasoning/FinReasoning/output/Claude-3-5_rag_output.json\")\n",
    "# Gemini_ProAccuracy=evaluate(\"/Volumes/Jennie/Reasoning/FinReasoning/output/Gemini_Pro_output.json\")\n",
    "# Gemini_ProRAGAccuracy=evaluate(\"/Volumes/Jennie/Reasoning/FinReasoning/output/Gemini_Pro_rag_output.json\")\n",
    "gpt_4oAccuracy=evaluate(\"/Volumes/Jennie/Reasoning/FinReasoning/output/gpt_4o_output.json\")\n",
    "gpt_4oRAGAccuracy=evaluate(\"/Volumes/Jennie/Reasoning/FinReasoning/output/gpt_4o_rag_output.json\")\n"
   ]
  },
  {
   "cell_type": "code",
   "execution_count": 7,
   "metadata": {},
   "outputs": [
    {
     "ename": "NameError",
     "evalue": "name 'ClaudeAccuracy' is not defined",
     "output_type": "error",
     "traceback": [
      "\u001b[0;31m---------------------------------------------------------------------------\u001b[0m",
      "\u001b[0;31mNameError\u001b[0m                                 Traceback (most recent call last)",
      "Cell \u001b[0;32mIn[7], line 6\u001b[0m\n\u001b[1;32m      1\u001b[0m \u001b[38;5;28;01mimport\u001b[39;00m \u001b[38;5;21;01mpandas\u001b[39;00m \u001b[38;5;28;01mas\u001b[39;00m \u001b[38;5;21;01mpd\u001b[39;00m\n\u001b[1;32m      3\u001b[0m \u001b[38;5;66;03m# 创建一个包含模型名称和准确率的字典\u001b[39;00m\n\u001b[1;32m      4\u001b[0m data \u001b[38;5;241m=\u001b[39m {\n\u001b[1;32m      5\u001b[0m     \u001b[38;5;124m'\u001b[39m\u001b[38;5;124mModel\u001b[39m\u001b[38;5;124m'\u001b[39m: [\u001b[38;5;124m'\u001b[39m\u001b[38;5;124mClaude\u001b[39m\u001b[38;5;124m'\u001b[39m, \u001b[38;5;124m'\u001b[39m\u001b[38;5;124mClaudeRAG\u001b[39m\u001b[38;5;124m'\u001b[39m, \u001b[38;5;124m'\u001b[39m\u001b[38;5;124mGemini_Pro\u001b[39m\u001b[38;5;124m'\u001b[39m, \u001b[38;5;124m'\u001b[39m\u001b[38;5;124mGemini_ProRAG\u001b[39m\u001b[38;5;124m'\u001b[39m, \u001b[38;5;124m'\u001b[39m\u001b[38;5;124mgpt_4o\u001b[39m\u001b[38;5;124m'\u001b[39m, \u001b[38;5;124m'\u001b[39m\u001b[38;5;124mgpt_4oRAG\u001b[39m\u001b[38;5;124m'\u001b[39m],\n\u001b[0;32m----> 6\u001b[0m     \u001b[38;5;124m'\u001b[39m\u001b[38;5;124mAccuracy\u001b[39m\u001b[38;5;124m%\u001b[39m\u001b[38;5;124m'\u001b[39m: [\u001b[43mClaudeAccuracy\u001b[49m, ClaudeRAGAccuracy, Gemini_ProAccuracy, Gemini_ProRAGAccuracy, gpt_4oAccuracy, gpt_4oRAGAccuracy]\n\u001b[1;32m      7\u001b[0m }\n\u001b[1;32m      9\u001b[0m \u001b[38;5;66;03m# 创建 DataFrame\u001b[39;00m\n\u001b[1;32m     10\u001b[0m df \u001b[38;5;241m=\u001b[39m pd\u001b[38;5;241m.\u001b[39mDataFrame(data)\n",
      "\u001b[0;31mNameError\u001b[0m: name 'ClaudeAccuracy' is not defined"
     ]
    }
   ],
   "source": [
    "import pandas as pd\n",
    "\n",
    "# 创建一个包含模型名称和准确率的字典\n",
    "data = {\n",
    "    'Model': ['Claude', 'ClaudeRAG', 'Gemini_Pro', 'Gemini_ProRAG', 'gpt_4o', 'gpt_4oRAG'],\n",
    "    'Accuracy%': [ClaudeAccuracy, ClaudeRAGAccuracy, Gemini_ProAccuracy, Gemini_ProRAGAccuracy, gpt_4oAccuracy, gpt_4oRAGAccuracy]\n",
    "}\n",
    "\n",
    "# 创建 DataFrame\n",
    "df = pd.DataFrame(data)\n",
    "df"
   ]
  },
  {
   "cell_type": "code",
   "execution_count": 15,
   "metadata": {},
   "outputs": [],
   "source": [
    "def evaluate(data):\n",
    "    a=0\n",
    "    for question in data:\n",
    "        if question[\"Model Answer\"] == question[\"Answer\"]:\n",
    "            a+=1\n",
    "        else:\n",
    "            a+=0\n",
    "    accuracy=(a/len(data)*100).__round__(2)\n",
    "    return accuracy"
   ]
  }
 ],
 "metadata": {
  "kernelspec": {
   "display_name": ".venv",
   "language": "python",
   "name": "python3"
  },
  "language_info": {
   "codemirror_mode": {
    "name": "ipython",
    "version": 3
   },
   "file_extension": ".py",
   "mimetype": "text/x-python",
   "name": "python",
   "nbconvert_exporter": "python",
   "pygments_lexer": "ipython3",
   "version": "3.12.5"
  }
 },
 "nbformat": 4,
 "nbformat_minor": 2
}
