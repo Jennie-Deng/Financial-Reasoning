{
 "cells": [
  {
   "cell_type": "code",
   "execution_count": 1,
   "metadata": {},
   "outputs": [],
   "source": [
    "import json\n",
    "import pandas as pd\n",
    "from IPython.display import Markdown,Image, display\n",
    "import ast\n",
    "import matplotlib.pyplot as plt"
   ]
  },
  {
   "cell_type": "code",
   "execution_count": 5,
   "metadata": {},
   "outputs": [],
   "source": [
    "file_path = '/Volumes/Jennie/Reasoning/FinReasoning/output/llama_rag_output.json'\n",
    "df = pd.read_json(file_path)\n",
    "df.to_csv('/Volumes/Jennie/Reasoning/FinReasoning/output/llama_rag_output.csv', index = None)"
   ]
  },
  {
   "cell_type": "code",
   "execution_count": 5,
   "metadata": {},
   "outputs": [],
   "source": [
    "file_path = '/Volumes/Jennie/Reasoning/FinReasoning/errorLog/llama_ErrorLog.json'\n",
    "df = pd.read_json(file_path)\n",
    "df.to_csv('/Volumes/Jennie/Reasoning/FinReasoning/errorLog/llama_ErrorLog.csv', index = None)"
   ]
  },
  {
   "cell_type": "code",
   "execution_count": null,
   "metadata": {},
   "outputs": [],
   "source": [
    "file_path = '/Volumes/Jennie/Reasoning/FinReasoning/dataset/data_v5.json'\n",
    "df = pd.read_json(file_path)\n",
    "df=df[df['Question Type']==\"text only\"]\n",
    "df"
   ]
  },
  {
   "cell_type": "code",
   "execution_count": null,
   "metadata": {},
   "outputs": [],
   "source": [
    "for entry in df[10:].iterrows():\n",
    "    print('Book:',entry[1]['Book Label'])\n",
    "    print('Question ID:',entry[1]['ID'])\n",
    "    print(\"My finance exam questions are missing some pictures. Can you help me generate some pictures or charts, such as bar charts, line charts, pie charts, scatter plots, area charts, histograms, box plots, radar charts, tree diagrams, heat maps, funnel charts, Gantt charts, timeline charts, tree structure charts, network diagrams, etc.\")\n",
    "    if entry[1]['Share Context'] !=\"\":\n",
    "        print(\"Share Context:\",entry[1]['Share Context'])\n",
    "    print('Question:',entry[1]['Question Text'])\n",
    "    print('Answer:',entry[1]['Options'].get(entry[1]['Answer']))\n",
    "    print('Explanation:',entry[1]['Explanation'])\n",
    "    # print('Answer:',entry[1]['Answer'],':',entry[1]['Options'].get(entry[1]['Answer']))\n",
    "    print(\"---\"*20)"
   ]
  }
 ],
 "metadata": {
  "kernelspec": {
   "display_name": ".venv",
   "language": "python",
   "name": "python3"
  },
  "language_info": {
   "codemirror_mode": {
    "name": "ipython",
    "version": 3
   },
   "file_extension": ".py",
   "mimetype": "text/x-python",
   "name": "python",
   "nbconvert_exporter": "python",
   "pygments_lexer": "ipython3",
   "version": "3.12.5"
  }
 },
 "nbformat": 4,
 "nbformat_minor": 2
}
